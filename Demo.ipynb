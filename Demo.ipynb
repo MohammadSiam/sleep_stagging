{
 "cells": [
  {
   "cell_type": "code",
   "execution_count": 1,
   "id": "1343052b",
   "metadata": {},
   "outputs": [],
   "source": [
    "import pandas as pd\n",
    "import numpy as np\n",
    "\n",
    "\n",
    "#data = pd.read_csv('labelled_training_data.csv')\n",
    "data = pd.read_csv('labelled_testing_data.csv')\n",
    "validation_df = pd.read_csv('labelled_validation_data.csv')\n"
   ]
  },
  {
   "cell_type": "code",
   "execution_count": 2,
   "id": "35ba9f16",
   "metadata": {},
   "outputs": [],
   "source": [
    "import warnings\n",
    "warnings.filterwarnings(\"ignore\")"
   ]
  },
  {
   "cell_type": "code",
   "execution_count": 3,
   "id": "7c765275",
   "metadata": {},
   "outputs": [
    {
     "data": {
      "text/html": [
       "<div>\n",
       "<style scoped>\n",
       "    .dataframe tbody tr th:only-of-type {\n",
       "        vertical-align: middle;\n",
       "    }\n",
       "\n",
       "    .dataframe tbody tr th {\n",
       "        vertical-align: top;\n",
       "    }\n",
       "\n",
       "    .dataframe thead th {\n",
       "        text-align: right;\n",
       "    }\n",
       "</style>\n",
       "<table border=\"1\" class=\"dataframe\">\n",
       "  <thead>\n",
       "    <tr style=\"text-align: right;\">\n",
       "      <th></th>\n",
       "      <th>timestamp</th>\n",
       "      <th>processId</th>\n",
       "      <th>threadId</th>\n",
       "      <th>parentProcessId</th>\n",
       "      <th>userId</th>\n",
       "      <th>mountNamespace</th>\n",
       "      <th>processName</th>\n",
       "      <th>hostName</th>\n",
       "      <th>eventId</th>\n",
       "      <th>eventName</th>\n",
       "      <th>stackAddresses</th>\n",
       "      <th>argsNum</th>\n",
       "      <th>returnValue</th>\n",
       "      <th>args</th>\n",
       "      <th>sus</th>\n",
       "      <th>evil</th>\n",
       "    </tr>\n",
       "  </thead>\n",
       "  <tbody>\n",
       "    <tr>\n",
       "      <th>0</th>\n",
       "      <td>129.050634</td>\n",
       "      <td>382</td>\n",
       "      <td>382</td>\n",
       "      <td>1</td>\n",
       "      <td>101</td>\n",
       "      <td>4026532232</td>\n",
       "      <td>systemd-resolve</td>\n",
       "      <td>ip-10-100-1-217</td>\n",
       "      <td>41</td>\n",
       "      <td>socket</td>\n",
       "      <td>[140159195621643, 140159192455417, 94656731598...</td>\n",
       "      <td>3</td>\n",
       "      <td>15</td>\n",
       "      <td>[{'name': 'domain', 'type': 'int', 'value': 'A...</td>\n",
       "      <td>0</td>\n",
       "      <td>0</td>\n",
       "    </tr>\n",
       "    <tr>\n",
       "      <th>1</th>\n",
       "      <td>129.051238</td>\n",
       "      <td>379</td>\n",
       "      <td>379</td>\n",
       "      <td>1</td>\n",
       "      <td>100</td>\n",
       "      <td>4026532231</td>\n",
       "      <td>systemd-network</td>\n",
       "      <td>ip-10-100-1-217</td>\n",
       "      <td>41</td>\n",
       "      <td>socket</td>\n",
       "      <td>[139853228042507, 93935071185801, 93935080775184]</td>\n",
       "      <td>3</td>\n",
       "      <td>15</td>\n",
       "      <td>[{'name': 'domain', 'type': 'int', 'value': 'A...</td>\n",
       "      <td>0</td>\n",
       "      <td>0</td>\n",
       "    </tr>\n",
       "    <tr>\n",
       "      <th>2</th>\n",
       "      <td>129.051434</td>\n",
       "      <td>1</td>\n",
       "      <td>1</td>\n",
       "      <td>0</td>\n",
       "      <td>0</td>\n",
       "      <td>4026531840</td>\n",
       "      <td>systemd</td>\n",
       "      <td>ip-10-100-1-217</td>\n",
       "      <td>1005</td>\n",
       "      <td>security_file_open</td>\n",
       "      <td>[140362867191588, 8103505641674583858]</td>\n",
       "      <td>4</td>\n",
       "      <td>0</td>\n",
       "      <td>[{'name': 'pathname', 'type': 'const char*', '...</td>\n",
       "      <td>0</td>\n",
       "      <td>0</td>\n",
       "    </tr>\n",
       "    <tr>\n",
       "      <th>3</th>\n",
       "      <td>129.051481</td>\n",
       "      <td>1</td>\n",
       "      <td>1</td>\n",
       "      <td>0</td>\n",
       "      <td>0</td>\n",
       "      <td>4026531840</td>\n",
       "      <td>systemd</td>\n",
       "      <td>ip-10-100-1-217</td>\n",
       "      <td>257</td>\n",
       "      <td>openat</td>\n",
       "      <td>[]</td>\n",
       "      <td>4</td>\n",
       "      <td>17</td>\n",
       "      <td>[{'name': 'dirfd', 'type': 'int', 'value': -10...</td>\n",
       "      <td>0</td>\n",
       "      <td>0</td>\n",
       "    </tr>\n",
       "    <tr>\n",
       "      <th>4</th>\n",
       "      <td>129.051522</td>\n",
       "      <td>1</td>\n",
       "      <td>1</td>\n",
       "      <td>0</td>\n",
       "      <td>0</td>\n",
       "      <td>4026531840</td>\n",
       "      <td>systemd</td>\n",
       "      <td>ip-10-100-1-217</td>\n",
       "      <td>5</td>\n",
       "      <td>fstat</td>\n",
       "      <td>[140362867189385]</td>\n",
       "      <td>2</td>\n",
       "      <td>0</td>\n",
       "      <td>[{'name': 'fd', 'type': 'int', 'value': 17}, {...</td>\n",
       "      <td>0</td>\n",
       "      <td>0</td>\n",
       "    </tr>\n",
       "  </tbody>\n",
       "</table>\n",
       "</div>"
      ],
      "text/plain": [
       "    timestamp  processId  threadId  parentProcessId  userId  mountNamespace  \\\n",
       "0  129.050634        382       382                1     101      4026532232   \n",
       "1  129.051238        379       379                1     100      4026532231   \n",
       "2  129.051434          1         1                0       0      4026531840   \n",
       "3  129.051481          1         1                0       0      4026531840   \n",
       "4  129.051522          1         1                0       0      4026531840   \n",
       "\n",
       "       processName         hostName  eventId           eventName  \\\n",
       "0  systemd-resolve  ip-10-100-1-217       41              socket   \n",
       "1  systemd-network  ip-10-100-1-217       41              socket   \n",
       "2          systemd  ip-10-100-1-217     1005  security_file_open   \n",
       "3          systemd  ip-10-100-1-217      257              openat   \n",
       "4          systemd  ip-10-100-1-217        5               fstat   \n",
       "\n",
       "                                      stackAddresses  argsNum  returnValue  \\\n",
       "0  [140159195621643, 140159192455417, 94656731598...        3           15   \n",
       "1  [139853228042507, 93935071185801, 93935080775184]        3           15   \n",
       "2             [140362867191588, 8103505641674583858]        4            0   \n",
       "3                                                 []        4           17   \n",
       "4                                  [140362867189385]        2            0   \n",
       "\n",
       "                                                args  sus  evil  \n",
       "0  [{'name': 'domain', 'type': 'int', 'value': 'A...    0     0  \n",
       "1  [{'name': 'domain', 'type': 'int', 'value': 'A...    0     0  \n",
       "2  [{'name': 'pathname', 'type': 'const char*', '...    0     0  \n",
       "3  [{'name': 'dirfd', 'type': 'int', 'value': -10...    0     0  \n",
       "4  [{'name': 'fd', 'type': 'int', 'value': 17}, {...    0     0  "
      ]
     },
     "execution_count": 3,
     "metadata": {},
     "output_type": "execute_result"
    }
   ],
   "source": [
    "data.head()"
   ]
  },
  {
   "cell_type": "code",
   "execution_count": 4,
   "id": "4c95b793",
   "metadata": {},
   "outputs": [
    {
     "data": {
      "text/html": [
       "<div>\n",
       "<style scoped>\n",
       "    .dataframe tbody tr th:only-of-type {\n",
       "        vertical-align: middle;\n",
       "    }\n",
       "\n",
       "    .dataframe tbody tr th {\n",
       "        vertical-align: top;\n",
       "    }\n",
       "\n",
       "    .dataframe thead th {\n",
       "        text-align: right;\n",
       "    }\n",
       "</style>\n",
       "<table border=\"1\" class=\"dataframe\">\n",
       "  <thead>\n",
       "    <tr style=\"text-align: right;\">\n",
       "      <th></th>\n",
       "      <th>timestamp</th>\n",
       "      <th>processId</th>\n",
       "      <th>threadId</th>\n",
       "      <th>parentProcessId</th>\n",
       "      <th>userId</th>\n",
       "      <th>mountNamespace</th>\n",
       "      <th>eventId</th>\n",
       "      <th>argsNum</th>\n",
       "      <th>returnValue</th>\n",
       "      <th>sus</th>\n",
       "      <th>evil</th>\n",
       "    </tr>\n",
       "  </thead>\n",
       "  <tbody>\n",
       "    <tr>\n",
       "      <th>timestamp</th>\n",
       "      <td>1.000000</td>\n",
       "      <td>0.491130</td>\n",
       "      <td>0.491046</td>\n",
       "      <td>0.669917</td>\n",
       "      <td>0.683395</td>\n",
       "      <td>-0.136004</td>\n",
       "      <td>-0.363611</td>\n",
       "      <td>0.160854</td>\n",
       "      <td>-0.100886</td>\n",
       "      <td>0.623884</td>\n",
       "      <td>0.701631</td>\n",
       "    </tr>\n",
       "    <tr>\n",
       "      <th>processId</th>\n",
       "      <td>0.491130</td>\n",
       "      <td>1.000000</td>\n",
       "      <td>0.999478</td>\n",
       "      <td>0.580795</td>\n",
       "      <td>0.403193</td>\n",
       "      <td>-0.258951</td>\n",
       "      <td>-0.189331</td>\n",
       "      <td>0.114630</td>\n",
       "      <td>-0.051313</td>\n",
       "      <td>0.481307</td>\n",
       "      <td>0.411276</td>\n",
       "    </tr>\n",
       "    <tr>\n",
       "      <th>threadId</th>\n",
       "      <td>0.491046</td>\n",
       "      <td>0.999478</td>\n",
       "      <td>1.000000</td>\n",
       "      <td>0.580544</td>\n",
       "      <td>0.403018</td>\n",
       "      <td>-0.259253</td>\n",
       "      <td>-0.189118</td>\n",
       "      <td>0.114770</td>\n",
       "      <td>-0.051281</td>\n",
       "      <td>0.481022</td>\n",
       "      <td>0.411148</td>\n",
       "    </tr>\n",
       "    <tr>\n",
       "      <th>parentProcessId</th>\n",
       "      <td>0.669917</td>\n",
       "      <td>0.580795</td>\n",
       "      <td>0.580544</td>\n",
       "      <td>1.000000</td>\n",
       "      <td>0.546944</td>\n",
       "      <td>-0.146671</td>\n",
       "      <td>-0.310943</td>\n",
       "      <td>0.145170</td>\n",
       "      <td>-0.075827</td>\n",
       "      <td>0.691091</td>\n",
       "      <td>0.716143</td>\n",
       "    </tr>\n",
       "    <tr>\n",
       "      <th>userId</th>\n",
       "      <td>0.683395</td>\n",
       "      <td>0.403193</td>\n",
       "      <td>0.403018</td>\n",
       "      <td>0.546944</td>\n",
       "      <td>1.000000</td>\n",
       "      <td>-0.097958</td>\n",
       "      <td>-0.394549</td>\n",
       "      <td>0.202659</td>\n",
       "      <td>-0.123286</td>\n",
       "      <td>0.770550</td>\n",
       "      <td>0.898078</td>\n",
       "    </tr>\n",
       "    <tr>\n",
       "      <th>mountNamespace</th>\n",
       "      <td>-0.136004</td>\n",
       "      <td>-0.258951</td>\n",
       "      <td>-0.259253</td>\n",
       "      <td>-0.146671</td>\n",
       "      <td>-0.097958</td>\n",
       "      <td>1.000000</td>\n",
       "      <td>0.027708</td>\n",
       "      <td>-0.032858</td>\n",
       "      <td>0.008023</td>\n",
       "      <td>-0.130868</td>\n",
       "      <td>-0.095256</td>\n",
       "    </tr>\n",
       "    <tr>\n",
       "      <th>eventId</th>\n",
       "      <td>-0.363611</td>\n",
       "      <td>-0.189331</td>\n",
       "      <td>-0.189118</td>\n",
       "      <td>-0.310943</td>\n",
       "      <td>-0.394549</td>\n",
       "      <td>0.027708</td>\n",
       "      <td>1.000000</td>\n",
       "      <td>0.364773</td>\n",
       "      <td>0.051660</td>\n",
       "      <td>-0.345232</td>\n",
       "      <td>-0.375582</td>\n",
       "    </tr>\n",
       "    <tr>\n",
       "      <th>argsNum</th>\n",
       "      <td>0.160854</td>\n",
       "      <td>0.114630</td>\n",
       "      <td>0.114770</td>\n",
       "      <td>0.145170</td>\n",
       "      <td>0.202659</td>\n",
       "      <td>-0.032858</td>\n",
       "      <td>0.364773</td>\n",
       "      <td>1.000000</td>\n",
       "      <td>0.080533</td>\n",
       "      <td>0.129866</td>\n",
       "      <td>0.229034</td>\n",
       "    </tr>\n",
       "    <tr>\n",
       "      <th>returnValue</th>\n",
       "      <td>-0.100886</td>\n",
       "      <td>-0.051313</td>\n",
       "      <td>-0.051281</td>\n",
       "      <td>-0.075827</td>\n",
       "      <td>-0.123286</td>\n",
       "      <td>0.008023</td>\n",
       "      <td>0.051660</td>\n",
       "      <td>0.080533</td>\n",
       "      <td>1.000000</td>\n",
       "      <td>-0.103648</td>\n",
       "      <td>-0.127150</td>\n",
       "    </tr>\n",
       "    <tr>\n",
       "      <th>sus</th>\n",
       "      <td>0.623884</td>\n",
       "      <td>0.481307</td>\n",
       "      <td>0.481022</td>\n",
       "      <td>0.691091</td>\n",
       "      <td>0.770550</td>\n",
       "      <td>-0.130868</td>\n",
       "      <td>-0.345232</td>\n",
       "      <td>0.129866</td>\n",
       "      <td>-0.103648</td>\n",
       "      <td>1.000000</td>\n",
       "      <td>0.727881</td>\n",
       "    </tr>\n",
       "    <tr>\n",
       "      <th>evil</th>\n",
       "      <td>0.701631</td>\n",
       "      <td>0.411276</td>\n",
       "      <td>0.411148</td>\n",
       "      <td>0.716143</td>\n",
       "      <td>0.898078</td>\n",
       "      <td>-0.095256</td>\n",
       "      <td>-0.375582</td>\n",
       "      <td>0.229034</td>\n",
       "      <td>-0.127150</td>\n",
       "      <td>0.727881</td>\n",
       "      <td>1.000000</td>\n",
       "    </tr>\n",
       "  </tbody>\n",
       "</table>\n",
       "</div>"
      ],
      "text/plain": [
       "                 timestamp  processId  threadId  parentProcessId    userId  \\\n",
       "timestamp         1.000000   0.491130  0.491046         0.669917  0.683395   \n",
       "processId         0.491130   1.000000  0.999478         0.580795  0.403193   \n",
       "threadId          0.491046   0.999478  1.000000         0.580544  0.403018   \n",
       "parentProcessId   0.669917   0.580795  0.580544         1.000000  0.546944   \n",
       "userId            0.683395   0.403193  0.403018         0.546944  1.000000   \n",
       "mountNamespace   -0.136004  -0.258951 -0.259253        -0.146671 -0.097958   \n",
       "eventId          -0.363611  -0.189331 -0.189118        -0.310943 -0.394549   \n",
       "argsNum           0.160854   0.114630  0.114770         0.145170  0.202659   \n",
       "returnValue      -0.100886  -0.051313 -0.051281        -0.075827 -0.123286   \n",
       "sus               0.623884   0.481307  0.481022         0.691091  0.770550   \n",
       "evil              0.701631   0.411276  0.411148         0.716143  0.898078   \n",
       "\n",
       "                 mountNamespace   eventId   argsNum  returnValue       sus  \\\n",
       "timestamp             -0.136004 -0.363611  0.160854    -0.100886  0.623884   \n",
       "processId             -0.258951 -0.189331  0.114630    -0.051313  0.481307   \n",
       "threadId              -0.259253 -0.189118  0.114770    -0.051281  0.481022   \n",
       "parentProcessId       -0.146671 -0.310943  0.145170    -0.075827  0.691091   \n",
       "userId                -0.097958 -0.394549  0.202659    -0.123286  0.770550   \n",
       "mountNamespace         1.000000  0.027708 -0.032858     0.008023 -0.130868   \n",
       "eventId                0.027708  1.000000  0.364773     0.051660 -0.345232   \n",
       "argsNum               -0.032858  0.364773  1.000000     0.080533  0.129866   \n",
       "returnValue            0.008023  0.051660  0.080533     1.000000 -0.103648   \n",
       "sus                   -0.130868 -0.345232  0.129866    -0.103648  1.000000   \n",
       "evil                  -0.095256 -0.375582  0.229034    -0.127150  0.727881   \n",
       "\n",
       "                     evil  \n",
       "timestamp        0.701631  \n",
       "processId        0.411276  \n",
       "threadId         0.411148  \n",
       "parentProcessId  0.716143  \n",
       "userId           0.898078  \n",
       "mountNamespace  -0.095256  \n",
       "eventId         -0.375582  \n",
       "argsNum          0.229034  \n",
       "returnValue     -0.127150  \n",
       "sus              0.727881  \n",
       "evil             1.000000  "
      ]
     },
     "execution_count": 4,
     "metadata": {},
     "output_type": "execute_result"
    }
   ],
   "source": [
    "data.corr()"
   ]
  },
  {
   "cell_type": "code",
   "execution_count": 5,
   "id": "a2e410d9",
   "metadata": {},
   "outputs": [
    {
     "data": {
      "text/html": [
       "<div>\n",
       "<style scoped>\n",
       "    .dataframe tbody tr th:only-of-type {\n",
       "        vertical-align: middle;\n",
       "    }\n",
       "\n",
       "    .dataframe tbody tr th {\n",
       "        vertical-align: top;\n",
       "    }\n",
       "\n",
       "    .dataframe thead th {\n",
       "        text-align: right;\n",
       "    }\n",
       "</style>\n",
       "<table border=\"1\" class=\"dataframe\">\n",
       "  <thead>\n",
       "    <tr style=\"text-align: right;\">\n",
       "      <th></th>\n",
       "      <th>timestamp</th>\n",
       "      <th>processId</th>\n",
       "      <th>threadId</th>\n",
       "      <th>parentProcessId</th>\n",
       "      <th>userId</th>\n",
       "      <th>mountNamespace</th>\n",
       "      <th>eventId</th>\n",
       "      <th>argsNum</th>\n",
       "      <th>returnValue</th>\n",
       "      <th>sus</th>\n",
       "      <th>evil</th>\n",
       "    </tr>\n",
       "  </thead>\n",
       "  <tbody>\n",
       "    <tr>\n",
       "      <th>timestamp</th>\n",
       "      <td>3822.231471</td>\n",
       "      <td>3.370046e+04</td>\n",
       "      <td>3.365719e+04</td>\n",
       "      <td>8.170017e+04</td>\n",
       "      <td>14950.612569</td>\n",
       "      <td>-152.289786</td>\n",
       "      <td>-4476.591050</td>\n",
       "      <td>6.345497</td>\n",
       "      <td>-2303.030885</td>\n",
       "      <td>11.183462</td>\n",
       "      <td>15.966252</td>\n",
       "    </tr>\n",
       "    <tr>\n",
       "      <th>processId</th>\n",
       "      <td>33700.460280</td>\n",
       "      <td>1.231860e+06</td>\n",
       "      <td>1.229847e+06</td>\n",
       "      <td>1.271591e+06</td>\n",
       "      <td>158351.575444</td>\n",
       "      <td>-5205.509149</td>\n",
       "      <td>-41846.131354</td>\n",
       "      <td>81.180665</td>\n",
       "      <td>-21029.075820</td>\n",
       "      <td>154.887436</td>\n",
       "      <td>168.015778</td>\n",
       "    </tr>\n",
       "    <tr>\n",
       "      <th>threadId</th>\n",
       "      <td>33657.194051</td>\n",
       "      <td>1.229847e+06</td>\n",
       "      <td>1.229119e+06</td>\n",
       "      <td>1.269626e+06</td>\n",
       "      <td>158106.675407</td>\n",
       "      <td>-5205.779462</td>\n",
       "      <td>-41752.373774</td>\n",
       "      <td>81.189387</td>\n",
       "      <td>-20992.592757</td>\n",
       "      <td>154.623544</td>\n",
       "      <td>167.776490</td>\n",
       "    </tr>\n",
       "    <tr>\n",
       "      <th>parentProcessId</th>\n",
       "      <td>81700.170185</td>\n",
       "      <td>1.271591e+06</td>\n",
       "      <td>1.269626e+06</td>\n",
       "      <td>3.891235e+06</td>\n",
       "      <td>381781.927518</td>\n",
       "      <td>-5240.258098</td>\n",
       "      <td>-122145.344112</td>\n",
       "      <td>182.723633</td>\n",
       "      <td>-55230.093998</td>\n",
       "      <td>395.268793</td>\n",
       "      <td>519.970731</td>\n",
       "    </tr>\n",
       "    <tr>\n",
       "      <th>userId</th>\n",
       "      <td>14950.612569</td>\n",
       "      <td>1.583516e+05</td>\n",
       "      <td>1.581067e+05</td>\n",
       "      <td>3.817819e+05</td>\n",
       "      <td>125215.402960</td>\n",
       "      <td>-627.812615</td>\n",
       "      <td>-27802.352718</td>\n",
       "      <td>45.758170</td>\n",
       "      <td>-16108.466592</td>\n",
       "      <td>79.057502</td>\n",
       "      <td>116.971068</td>\n",
       "    </tr>\n",
       "    <tr>\n",
       "      <th>mountNamespace</th>\n",
       "      <td>-152.289786</td>\n",
       "      <td>-5.205509e+03</td>\n",
       "      <td>-5.205779e+03</td>\n",
       "      <td>-5.240258e+03</td>\n",
       "      <td>-627.812615</td>\n",
       "      <td>328.043714</td>\n",
       "      <td>99.932795</td>\n",
       "      <td>-0.379730</td>\n",
       "      <td>53.655710</td>\n",
       "      <td>-0.687241</td>\n",
       "      <td>-0.635026</td>\n",
       "    </tr>\n",
       "    <tr>\n",
       "      <th>eventId</th>\n",
       "      <td>-4476.591050</td>\n",
       "      <td>-4.184613e+04</td>\n",
       "      <td>-4.175237e+04</td>\n",
       "      <td>-1.221453e+05</td>\n",
       "      <td>-27802.352718</td>\n",
       "      <td>99.932795</td>\n",
       "      <td>39655.568306</td>\n",
       "      <td>46.349979</td>\n",
       "      <td>3798.503444</td>\n",
       "      <td>-19.933200</td>\n",
       "      <td>-27.529126</td>\n",
       "    </tr>\n",
       "    <tr>\n",
       "      <th>argsNum</th>\n",
       "      <td>6.345497</td>\n",
       "      <td>8.118066e+01</td>\n",
       "      <td>8.118939e+01</td>\n",
       "      <td>1.827236e+02</td>\n",
       "      <td>45.758170</td>\n",
       "      <td>-0.379730</td>\n",
       "      <td>46.349979</td>\n",
       "      <td>0.407145</td>\n",
       "      <td>18.973879</td>\n",
       "      <td>0.024026</td>\n",
       "      <td>0.053791</td>\n",
       "    </tr>\n",
       "    <tr>\n",
       "      <th>returnValue</th>\n",
       "      <td>-2303.030885</td>\n",
       "      <td>-2.102908e+04</td>\n",
       "      <td>-2.099259e+04</td>\n",
       "      <td>-5.523009e+04</td>\n",
       "      <td>-16108.466592</td>\n",
       "      <td>53.655710</td>\n",
       "      <td>3798.503444</td>\n",
       "      <td>18.973879</td>\n",
       "      <td>136338.993279</td>\n",
       "      <td>-11.096429</td>\n",
       "      <td>-17.280753</td>\n",
       "    </tr>\n",
       "    <tr>\n",
       "      <th>sus</th>\n",
       "      <td>11.183462</td>\n",
       "      <td>1.548874e+02</td>\n",
       "      <td>1.546235e+02</td>\n",
       "      <td>3.952688e+02</td>\n",
       "      <td>79.057502</td>\n",
       "      <td>-0.687241</td>\n",
       "      <td>-19.933200</td>\n",
       "      <td>0.024026</td>\n",
       "      <td>-11.096429</td>\n",
       "      <td>0.084067</td>\n",
       "      <td>0.077680</td>\n",
       "    </tr>\n",
       "    <tr>\n",
       "      <th>evil</th>\n",
       "      <td>15.966252</td>\n",
       "      <td>1.680158e+02</td>\n",
       "      <td>1.677765e+02</td>\n",
       "      <td>5.199707e+02</td>\n",
       "      <td>116.971068</td>\n",
       "      <td>-0.635026</td>\n",
       "      <td>-27.529126</td>\n",
       "      <td>0.053791</td>\n",
       "      <td>-17.280753</td>\n",
       "      <td>0.077680</td>\n",
       "      <td>0.135479</td>\n",
       "    </tr>\n",
       "  </tbody>\n",
       "</table>\n",
       "</div>"
      ],
      "text/plain": [
       "                    timestamp     processId      threadId  parentProcessId  \\\n",
       "timestamp         3822.231471  3.370046e+04  3.365719e+04     8.170017e+04   \n",
       "processId        33700.460280  1.231860e+06  1.229847e+06     1.271591e+06   \n",
       "threadId         33657.194051  1.229847e+06  1.229119e+06     1.269626e+06   \n",
       "parentProcessId  81700.170185  1.271591e+06  1.269626e+06     3.891235e+06   \n",
       "userId           14950.612569  1.583516e+05  1.581067e+05     3.817819e+05   \n",
       "mountNamespace    -152.289786 -5.205509e+03 -5.205779e+03    -5.240258e+03   \n",
       "eventId          -4476.591050 -4.184613e+04 -4.175237e+04    -1.221453e+05   \n",
       "argsNum              6.345497  8.118066e+01  8.118939e+01     1.827236e+02   \n",
       "returnValue      -2303.030885 -2.102908e+04 -2.099259e+04    -5.523009e+04   \n",
       "sus                 11.183462  1.548874e+02  1.546235e+02     3.952688e+02   \n",
       "evil                15.966252  1.680158e+02  1.677765e+02     5.199707e+02   \n",
       "\n",
       "                        userId  mountNamespace        eventId     argsNum  \\\n",
       "timestamp         14950.612569     -152.289786   -4476.591050    6.345497   \n",
       "processId        158351.575444    -5205.509149  -41846.131354   81.180665   \n",
       "threadId         158106.675407    -5205.779462  -41752.373774   81.189387   \n",
       "parentProcessId  381781.927518    -5240.258098 -122145.344112  182.723633   \n",
       "userId           125215.402960     -627.812615  -27802.352718   45.758170   \n",
       "mountNamespace     -627.812615      328.043714      99.932795   -0.379730   \n",
       "eventId          -27802.352718       99.932795   39655.568306   46.349979   \n",
       "argsNum              45.758170       -0.379730      46.349979    0.407145   \n",
       "returnValue      -16108.466592       53.655710    3798.503444   18.973879   \n",
       "sus                  79.057502       -0.687241     -19.933200    0.024026   \n",
       "evil                116.971068       -0.635026     -27.529126    0.053791   \n",
       "\n",
       "                   returnValue         sus        evil  \n",
       "timestamp         -2303.030885   11.183462   15.966252  \n",
       "processId        -21029.075820  154.887436  168.015778  \n",
       "threadId         -20992.592757  154.623544  167.776490  \n",
       "parentProcessId  -55230.093998  395.268793  519.970731  \n",
       "userId           -16108.466592   79.057502  116.971068  \n",
       "mountNamespace       53.655710   -0.687241   -0.635026  \n",
       "eventId            3798.503444  -19.933200  -27.529126  \n",
       "argsNum              18.973879    0.024026    0.053791  \n",
       "returnValue      136338.993279  -11.096429  -17.280753  \n",
       "sus                 -11.096429    0.084067    0.077680  \n",
       "evil                -17.280753    0.077680    0.135479  "
      ]
     },
     "execution_count": 5,
     "metadata": {},
     "output_type": "execute_result"
    }
   ],
   "source": [
    "data.cov()"
   ]
  },
  {
   "cell_type": "code",
   "execution_count": 6,
   "id": "676e06ef",
   "metadata": {},
   "outputs": [],
   "source": [
    "import matplotlib.pyplot as plt\n",
    "import seaborn as sb\n",
    "%matplotlib inline    "
   ]
  },
  {
   "cell_type": "code",
   "execution_count": 7,
   "id": "181bd3fe",
   "metadata": {},
   "outputs": [
    {
     "data": {
      "text/plain": [
       "'\\nplt.matshow(data.corr(), cmap = \"summer\")                    \\nplt.colorbar()\\nplt.xticks(list(range(len(data.columns))), data.columns, rotation = \\'vertical\\')\\nplt.yticks(list(range(len(data.columns))), data.columns, rotation = \\'horizontal\\')\\nplt.show()\\n\\nsb.set(rc = {\\'figure.figsize\\':(16,10)})\\nsb.heatmap(data.corr(),annot=True, cmap=\"Greens\")\\n\\n\\nplt.savefig(\\'Heatmap(2)\\',dpi=500)\\n'"
      ]
     },
     "execution_count": 7,
     "metadata": {},
     "output_type": "execute_result"
    }
   ],
   "source": [
    "\"\"\"\n",
    "plt.matshow(data.corr(), cmap = \"summer\")                    \n",
    "plt.colorbar()\n",
    "plt.xticks(list(range(len(data.columns))), data.columns, rotation = 'vertical')\n",
    "plt.yticks(list(range(len(data.columns))), data.columns, rotation = 'horizontal')\n",
    "plt.show()\n",
    "\n",
    "sb.set(rc = {'figure.figsize':(16,10)})\n",
    "sb.heatmap(data.corr(),annot=True, cmap=\"Greens\")\n",
    "\n",
    "\n",
    "plt.savefig('Heatmap(2)',dpi=500)\n",
    "\"\"\""
   ]
  },
  {
   "cell_type": "code",
   "execution_count": 8,
   "id": "b2f8f9bf",
   "metadata": {},
   "outputs": [
    {
     "name": "stdout",
     "output_type": "stream",
     "text": [
      "<class 'pandas.core.frame.DataFrame'>\n",
      "RangeIndex: 188967 entries, 0 to 188966\n",
      "Data columns (total 16 columns):\n",
      " #   Column           Non-Null Count   Dtype  \n",
      "---  ------           --------------   -----  \n",
      " 0   timestamp        188967 non-null  float64\n",
      " 1   processId        188967 non-null  int64  \n",
      " 2   threadId         188967 non-null  int64  \n",
      " 3   parentProcessId  188967 non-null  int64  \n",
      " 4   userId           188967 non-null  int64  \n",
      " 5   mountNamespace   188967 non-null  int64  \n",
      " 6   processName      188967 non-null  object \n",
      " 7   hostName         188967 non-null  object \n",
      " 8   eventId          188967 non-null  int64  \n",
      " 9   eventName        188967 non-null  object \n",
      " 10  stackAddresses   188967 non-null  object \n",
      " 11  argsNum          188967 non-null  int64  \n",
      " 12  returnValue      188967 non-null  int64  \n",
      " 13  args             188967 non-null  object \n",
      " 14  sus              188967 non-null  int64  \n",
      " 15  evil             188967 non-null  int64  \n",
      "dtypes: float64(1), int64(10), object(5)\n",
      "memory usage: 23.1+ MB\n"
     ]
    }
   ],
   "source": [
    "data.info()"
   ]
  },
  {
   "cell_type": "code",
   "execution_count": 9,
   "id": "6115308e",
   "metadata": {},
   "outputs": [],
   "source": [
    "from sklearn import preprocessing\n",
    "le = preprocessing.LabelEncoder()\n",
    "data['processName'] = le.fit_transform(data['processName'])\n",
    "data['eventName'] = le.fit_transform(data['eventName'])\n",
    "data['stackAddresses'] = le.fit_transform(data['stackAddresses'])\n",
    "data['args'] = le.fit_transform(data['args'])"
   ]
  },
  {
   "cell_type": "code",
   "execution_count": 10,
   "id": "1fb2da07",
   "metadata": {},
   "outputs": [
    {
     "data": {
      "text/html": [
       "<div>\n",
       "<style scoped>\n",
       "    .dataframe tbody tr th:only-of-type {\n",
       "        vertical-align: middle;\n",
       "    }\n",
       "\n",
       "    .dataframe tbody tr th {\n",
       "        vertical-align: top;\n",
       "    }\n",
       "\n",
       "    .dataframe thead th {\n",
       "        text-align: right;\n",
       "    }\n",
       "</style>\n",
       "<table border=\"1\" class=\"dataframe\">\n",
       "  <thead>\n",
       "    <tr style=\"text-align: right;\">\n",
       "      <th></th>\n",
       "      <th>timestamp</th>\n",
       "      <th>processId</th>\n",
       "      <th>threadId</th>\n",
       "      <th>parentProcessId</th>\n",
       "      <th>userId</th>\n",
       "      <th>mountNamespace</th>\n",
       "      <th>processName</th>\n",
       "      <th>hostName</th>\n",
       "      <th>eventId</th>\n",
       "      <th>eventName</th>\n",
       "      <th>stackAddresses</th>\n",
       "      <th>argsNum</th>\n",
       "      <th>returnValue</th>\n",
       "      <th>args</th>\n",
       "      <th>sus</th>\n",
       "      <th>evil</th>\n",
       "    </tr>\n",
       "  </thead>\n",
       "  <tbody>\n",
       "    <tr>\n",
       "      <th>0</th>\n",
       "      <td>129.050634</td>\n",
       "      <td>382</td>\n",
       "      <td>382</td>\n",
       "      <td>1</td>\n",
       "      <td>101</td>\n",
       "      <td>4026532232</td>\n",
       "      <td>78</td>\n",
       "      <td>ip-10-100-1-217</td>\n",
       "      <td>41</td>\n",
       "      <td>40</td>\n",
       "      <td>1601</td>\n",
       "      <td>3</td>\n",
       "      <td>15</td>\n",
       "      <td>6912</td>\n",
       "      <td>0</td>\n",
       "      <td>0</td>\n",
       "    </tr>\n",
       "    <tr>\n",
       "      <th>1</th>\n",
       "      <td>129.051238</td>\n",
       "      <td>379</td>\n",
       "      <td>379</td>\n",
       "      <td>1</td>\n",
       "      <td>100</td>\n",
       "      <td>4026532231</td>\n",
       "      <td>77</td>\n",
       "      <td>ip-10-100-1-217</td>\n",
       "      <td>41</td>\n",
       "      <td>40</td>\n",
       "      <td>1158</td>\n",
       "      <td>3</td>\n",
       "      <td>15</td>\n",
       "      <td>6912</td>\n",
       "      <td>0</td>\n",
       "      <td>0</td>\n",
       "    </tr>\n",
       "    <tr>\n",
       "      <th>2</th>\n",
       "      <td>129.051434</td>\n",
       "      <td>1</td>\n",
       "      <td>1</td>\n",
       "      <td>0</td>\n",
       "      <td>0</td>\n",
       "      <td>4026531840</td>\n",
       "      <td>73</td>\n",
       "      <td>ip-10-100-1-217</td>\n",
       "      <td>1005</td>\n",
       "      <td>32</td>\n",
       "      <td>2206</td>\n",
       "      <td>4</td>\n",
       "      <td>0</td>\n",
       "      <td>12213</td>\n",
       "      <td>0</td>\n",
       "      <td>0</td>\n",
       "    </tr>\n",
       "    <tr>\n",
       "      <th>3</th>\n",
       "      <td>129.051481</td>\n",
       "      <td>1</td>\n",
       "      <td>1</td>\n",
       "      <td>0</td>\n",
       "      <td>0</td>\n",
       "      <td>4026531840</td>\n",
       "      <td>73</td>\n",
       "      <td>ip-10-100-1-217</td>\n",
       "      <td>257</td>\n",
       "      <td>28</td>\n",
       "      <td>4195</td>\n",
       "      <td>4</td>\n",
       "      <td>17</td>\n",
       "      <td>2628</td>\n",
       "      <td>0</td>\n",
       "      <td>0</td>\n",
       "    </tr>\n",
       "    <tr>\n",
       "      <th>4</th>\n",
       "      <td>129.051522</td>\n",
       "      <td>1</td>\n",
       "      <td>1</td>\n",
       "      <td>0</td>\n",
       "      <td>0</td>\n",
       "      <td>4026531840</td>\n",
       "      <td>73</td>\n",
       "      <td>ip-10-100-1-217</td>\n",
       "      <td>5</td>\n",
       "      <td>17</td>\n",
       "      <td>2159</td>\n",
       "      <td>2</td>\n",
       "      <td>0</td>\n",
       "      <td>7099</td>\n",
       "      <td>0</td>\n",
       "      <td>0</td>\n",
       "    </tr>\n",
       "    <tr>\n",
       "      <th>...</th>\n",
       "      <td>...</td>\n",
       "      <td>...</td>\n",
       "      <td>...</td>\n",
       "      <td>...</td>\n",
       "      <td>...</td>\n",
       "      <td>...</td>\n",
       "      <td>...</td>\n",
       "      <td>...</td>\n",
       "      <td>...</td>\n",
       "      <td>...</td>\n",
       "      <td>...</td>\n",
       "      <td>...</td>\n",
       "      <td>...</td>\n",
       "      <td>...</td>\n",
       "      <td>...</td>\n",
       "      <td>...</td>\n",
       "    </tr>\n",
       "    <tr>\n",
       "      <th>188962</th>\n",
       "      <td>496.629003</td>\n",
       "      <td>7555</td>\n",
       "      <td>7555</td>\n",
       "      <td>7548</td>\n",
       "      <td>1001</td>\n",
       "      <td>4026531840</td>\n",
       "      <td>233</td>\n",
       "      <td>ip-10-100-1-217</td>\n",
       "      <td>42</td>\n",
       "      <td>9</td>\n",
       "      <td>4195</td>\n",
       "      <td>3</td>\n",
       "      <td>-114</td>\n",
       "      <td>25342</td>\n",
       "      <td>1</td>\n",
       "      <td>1</td>\n",
       "    </tr>\n",
       "    <tr>\n",
       "      <th>188963</th>\n",
       "      <td>496.629025</td>\n",
       "      <td>7555</td>\n",
       "      <td>7555</td>\n",
       "      <td>7548</td>\n",
       "      <td>1001</td>\n",
       "      <td>4026531840</td>\n",
       "      <td>233</td>\n",
       "      <td>ip-10-100-1-217</td>\n",
       "      <td>42</td>\n",
       "      <td>9</td>\n",
       "      <td>4195</td>\n",
       "      <td>3</td>\n",
       "      <td>-114</td>\n",
       "      <td>25363</td>\n",
       "      <td>1</td>\n",
       "      <td>1</td>\n",
       "    </tr>\n",
       "    <tr>\n",
       "      <th>188964</th>\n",
       "      <td>496.629047</td>\n",
       "      <td>7555</td>\n",
       "      <td>7555</td>\n",
       "      <td>7548</td>\n",
       "      <td>1001</td>\n",
       "      <td>4026531840</td>\n",
       "      <td>233</td>\n",
       "      <td>ip-10-100-1-217</td>\n",
       "      <td>42</td>\n",
       "      <td>9</td>\n",
       "      <td>4195</td>\n",
       "      <td>3</td>\n",
       "      <td>-114</td>\n",
       "      <td>25385</td>\n",
       "      <td>1</td>\n",
       "      <td>1</td>\n",
       "    </tr>\n",
       "    <tr>\n",
       "      <th>188965</th>\n",
       "      <td>496.629069</td>\n",
       "      <td>7555</td>\n",
       "      <td>7555</td>\n",
       "      <td>7548</td>\n",
       "      <td>1001</td>\n",
       "      <td>4026531840</td>\n",
       "      <td>233</td>\n",
       "      <td>ip-10-100-1-217</td>\n",
       "      <td>42</td>\n",
       "      <td>9</td>\n",
       "      <td>4195</td>\n",
       "      <td>3</td>\n",
       "      <td>-114</td>\n",
       "      <td>25407</td>\n",
       "      <td>1</td>\n",
       "      <td>1</td>\n",
       "    </tr>\n",
       "    <tr>\n",
       "      <th>188966</th>\n",
       "      <td>496.629091</td>\n",
       "      <td>7555</td>\n",
       "      <td>7555</td>\n",
       "      <td>7548</td>\n",
       "      <td>1001</td>\n",
       "      <td>4026531840</td>\n",
       "      <td>233</td>\n",
       "      <td>ip-10-100-1-217</td>\n",
       "      <td>42</td>\n",
       "      <td>9</td>\n",
       "      <td>4195</td>\n",
       "      <td>3</td>\n",
       "      <td>-114</td>\n",
       "      <td>25427</td>\n",
       "      <td>1</td>\n",
       "      <td>1</td>\n",
       "    </tr>\n",
       "  </tbody>\n",
       "</table>\n",
       "<p>188967 rows × 16 columns</p>\n",
       "</div>"
      ],
      "text/plain": [
       "         timestamp  processId  threadId  parentProcessId  userId  \\\n",
       "0       129.050634        382       382                1     101   \n",
       "1       129.051238        379       379                1     100   \n",
       "2       129.051434          1         1                0       0   \n",
       "3       129.051481          1         1                0       0   \n",
       "4       129.051522          1         1                0       0   \n",
       "...            ...        ...       ...              ...     ...   \n",
       "188962  496.629003       7555      7555             7548    1001   \n",
       "188963  496.629025       7555      7555             7548    1001   \n",
       "188964  496.629047       7555      7555             7548    1001   \n",
       "188965  496.629069       7555      7555             7548    1001   \n",
       "188966  496.629091       7555      7555             7548    1001   \n",
       "\n",
       "        mountNamespace  processName         hostName  eventId  eventName  \\\n",
       "0           4026532232           78  ip-10-100-1-217       41         40   \n",
       "1           4026532231           77  ip-10-100-1-217       41         40   \n",
       "2           4026531840           73  ip-10-100-1-217     1005         32   \n",
       "3           4026531840           73  ip-10-100-1-217      257         28   \n",
       "4           4026531840           73  ip-10-100-1-217        5         17   \n",
       "...                ...          ...              ...      ...        ...   \n",
       "188962      4026531840          233  ip-10-100-1-217       42          9   \n",
       "188963      4026531840          233  ip-10-100-1-217       42          9   \n",
       "188964      4026531840          233  ip-10-100-1-217       42          9   \n",
       "188965      4026531840          233  ip-10-100-1-217       42          9   \n",
       "188966      4026531840          233  ip-10-100-1-217       42          9   \n",
       "\n",
       "        stackAddresses  argsNum  returnValue   args  sus  evil  \n",
       "0                 1601        3           15   6912    0     0  \n",
       "1                 1158        3           15   6912    0     0  \n",
       "2                 2206        4            0  12213    0     0  \n",
       "3                 4195        4           17   2628    0     0  \n",
       "4                 2159        2            0   7099    0     0  \n",
       "...                ...      ...          ...    ...  ...   ...  \n",
       "188962            4195        3         -114  25342    1     1  \n",
       "188963            4195        3         -114  25363    1     1  \n",
       "188964            4195        3         -114  25385    1     1  \n",
       "188965            4195        3         -114  25407    1     1  \n",
       "188966            4195        3         -114  25427    1     1  \n",
       "\n",
       "[188967 rows x 16 columns]"
      ]
     },
     "execution_count": 10,
     "metadata": {},
     "output_type": "execute_result"
    }
   ],
   "source": [
    "data"
   ]
  },
  {
   "cell_type": "code",
   "execution_count": 11,
   "id": "220e5b77",
   "metadata": {},
   "outputs": [],
   "source": [
    "#data.to_csv(\"Beth_for_XAI.csv\")"
   ]
  },
  {
   "cell_type": "code",
   "execution_count": 12,
   "id": "68e38bc4",
   "metadata": {
    "scrolled": true
   },
   "outputs": [
    {
     "name": "stdout",
     "output_type": "stream",
     "text": [
      "1    171459\n",
      "0     17508\n",
      "Name: sus, dtype: int64\n"
     ]
    }
   ],
   "source": [
    "print(data['sus'].value_counts())"
   ]
  },
  {
   "cell_type": "code",
   "execution_count": 13,
   "id": "049320f5",
   "metadata": {},
   "outputs": [
    {
     "name": "stdout",
     "output_type": "stream",
     "text": [
      "1    158432\n",
      "0     30535\n",
      "Name: evil, dtype: int64\n"
     ]
    }
   ],
   "source": [
    "print(data['evil'].value_counts())"
   ]
  },
  {
   "cell_type": "code",
   "execution_count": 14,
   "id": "8dbabb0e",
   "metadata": {},
   "outputs": [
    {
     "data": {
      "text/html": [
       "<div>\n",
       "<style scoped>\n",
       "    .dataframe tbody tr th:only-of-type {\n",
       "        vertical-align: middle;\n",
       "    }\n",
       "\n",
       "    .dataframe tbody tr th {\n",
       "        vertical-align: top;\n",
       "    }\n",
       "\n",
       "    .dataframe thead th {\n",
       "        text-align: right;\n",
       "    }\n",
       "</style>\n",
       "<table border=\"1\" class=\"dataframe\">\n",
       "  <thead>\n",
       "    <tr style=\"text-align: right;\">\n",
       "      <th></th>\n",
       "      <th>timestamp</th>\n",
       "      <th>processId</th>\n",
       "      <th>threadId</th>\n",
       "      <th>parentProcessId</th>\n",
       "      <th>userId</th>\n",
       "      <th>mountNamespace</th>\n",
       "      <th>processName</th>\n",
       "      <th>eventId</th>\n",
       "      <th>eventName</th>\n",
       "      <th>stackAddresses</th>\n",
       "      <th>argsNum</th>\n",
       "      <th>returnValue</th>\n",
       "      <th>args</th>\n",
       "      <th>sus</th>\n",
       "      <th>evil</th>\n",
       "    </tr>\n",
       "  </thead>\n",
       "  <tbody>\n",
       "    <tr>\n",
       "      <th>count</th>\n",
       "      <td>188967.000000</td>\n",
       "      <td>188967.000000</td>\n",
       "      <td>188967.000000</td>\n",
       "      <td>188967.000000</td>\n",
       "      <td>188967.000000</td>\n",
       "      <td>1.889670e+05</td>\n",
       "      <td>188967.000000</td>\n",
       "      <td>188967.000000</td>\n",
       "      <td>188967.000000</td>\n",
       "      <td>188967.000000</td>\n",
       "      <td>188967.000000</td>\n",
       "      <td>188967.000000</td>\n",
       "      <td>188967.000000</td>\n",
       "      <td>188967.000000</td>\n",
       "      <td>188967.000000</td>\n",
       "    </tr>\n",
       "    <tr>\n",
       "      <th>mean</th>\n",
       "      <td>455.070015</td>\n",
       "      <td>7347.397202</td>\n",
       "      <td>7347.754089</td>\n",
       "      <td>6919.593490</td>\n",
       "      <td>854.301682</td>\n",
       "      <td>4.026532e+09</td>\n",
       "      <td>197.949123</td>\n",
       "      <td>88.802198</td>\n",
       "      <td>12.341007</td>\n",
       "      <td>4107.200638</td>\n",
       "      <td>2.894569</td>\n",
       "      <td>-66.556991</td>\n",
       "      <td>22351.441511</td>\n",
       "      <td>0.907349</td>\n",
       "      <td>0.838411</td>\n",
       "    </tr>\n",
       "    <tr>\n",
       "      <th>std</th>\n",
       "      <td>61.824198</td>\n",
       "      <td>1109.892047</td>\n",
       "      <td>1108.656349</td>\n",
       "      <td>1972.621259</td>\n",
       "      <td>353.857885</td>\n",
       "      <td>1.811198e+01</td>\n",
       "      <td>71.176493</td>\n",
       "      <td>199.137059</td>\n",
       "      <td>8.469662</td>\n",
       "      <td>491.884767</td>\n",
       "      <td>0.638079</td>\n",
       "      <td>369.241105</td>\n",
       "      <td>8709.013823</td>\n",
       "      <td>0.289944</td>\n",
       "      <td>0.368074</td>\n",
       "    </tr>\n",
       "    <tr>\n",
       "      <th>min</th>\n",
       "      <td>129.050634</td>\n",
       "      <td>1.000000</td>\n",
       "      <td>1.000000</td>\n",
       "      <td>0.000000</td>\n",
       "      <td>0.000000</td>\n",
       "      <td>4.026532e+09</td>\n",
       "      <td>0.000000</td>\n",
       "      <td>2.000000</td>\n",
       "      <td>0.000000</td>\n",
       "      <td>0.000000</td>\n",
       "      <td>0.000000</td>\n",
       "      <td>-115.000000</td>\n",
       "      <td>0.000000</td>\n",
       "      <td>0.000000</td>\n",
       "      <td>0.000000</td>\n",
       "    </tr>\n",
       "    <tr>\n",
       "      <th>25%</th>\n",
       "      <td>461.577225</td>\n",
       "      <td>7555.000000</td>\n",
       "      <td>7555.000000</td>\n",
       "      <td>7548.000000</td>\n",
       "      <td>1001.000000</td>\n",
       "      <td>4.026532e+09</td>\n",
       "      <td>233.000000</td>\n",
       "      <td>42.000000</td>\n",
       "      <td>9.000000</td>\n",
       "      <td>4195.000000</td>\n",
       "      <td>3.000000</td>\n",
       "      <td>-114.000000</td>\n",
       "      <td>17831.000000</td>\n",
       "      <td>1.000000</td>\n",
       "      <td>1.000000</td>\n",
       "    </tr>\n",
       "    <tr>\n",
       "      <th>50%</th>\n",
       "      <td>470.889349</td>\n",
       "      <td>7555.000000</td>\n",
       "      <td>7555.000000</td>\n",
       "      <td>7548.000000</td>\n",
       "      <td>1001.000000</td>\n",
       "      <td>4.026532e+09</td>\n",
       "      <td>233.000000</td>\n",
       "      <td>42.000000</td>\n",
       "      <td>9.000000</td>\n",
       "      <td>4195.000000</td>\n",
       "      <td>3.000000</td>\n",
       "      <td>-114.000000</td>\n",
       "      <td>23610.000000</td>\n",
       "      <td>1.000000</td>\n",
       "      <td>1.000000</td>\n",
       "    </tr>\n",
       "    <tr>\n",
       "      <th>75%</th>\n",
       "      <td>487.116843</td>\n",
       "      <td>7555.000000</td>\n",
       "      <td>7555.000000</td>\n",
       "      <td>7548.000000</td>\n",
       "      <td>1001.000000</td>\n",
       "      <td>4.026532e+09</td>\n",
       "      <td>233.000000</td>\n",
       "      <td>42.000000</td>\n",
       "      <td>9.000000</td>\n",
       "      <td>4195.000000</td>\n",
       "      <td>3.000000</td>\n",
       "      <td>-114.000000</td>\n",
       "      <td>29411.000000</td>\n",
       "      <td>1.000000</td>\n",
       "      <td>1.000000</td>\n",
       "    </tr>\n",
       "    <tr>\n",
       "      <th>max</th>\n",
       "      <td>496.629091</td>\n",
       "      <td>7555.000000</td>\n",
       "      <td>7705.000000</td>\n",
       "      <td>7552.000000</td>\n",
       "      <td>1001.000000</td>\n",
       "      <td>4.026532e+09</td>\n",
       "      <td>243.000000</td>\n",
       "      <td>1010.000000</td>\n",
       "      <td>45.000000</td>\n",
       "      <td>4195.000000</td>\n",
       "      <td>5.000000</td>\n",
       "      <td>32768.000000</td>\n",
       "      <td>35176.000000</td>\n",
       "      <td>1.000000</td>\n",
       "      <td>1.000000</td>\n",
       "    </tr>\n",
       "  </tbody>\n",
       "</table>\n",
       "</div>"
      ],
      "text/plain": [
       "           timestamp      processId       threadId  parentProcessId  \\\n",
       "count  188967.000000  188967.000000  188967.000000    188967.000000   \n",
       "mean      455.070015    7347.397202    7347.754089      6919.593490   \n",
       "std        61.824198    1109.892047    1108.656349      1972.621259   \n",
       "min       129.050634       1.000000       1.000000         0.000000   \n",
       "25%       461.577225    7555.000000    7555.000000      7548.000000   \n",
       "50%       470.889349    7555.000000    7555.000000      7548.000000   \n",
       "75%       487.116843    7555.000000    7555.000000      7548.000000   \n",
       "max       496.629091    7555.000000    7705.000000      7552.000000   \n",
       "\n",
       "              userId  mountNamespace    processName        eventId  \\\n",
       "count  188967.000000    1.889670e+05  188967.000000  188967.000000   \n",
       "mean      854.301682    4.026532e+09     197.949123      88.802198   \n",
       "std       353.857885    1.811198e+01      71.176493     199.137059   \n",
       "min         0.000000    4.026532e+09       0.000000       2.000000   \n",
       "25%      1001.000000    4.026532e+09     233.000000      42.000000   \n",
       "50%      1001.000000    4.026532e+09     233.000000      42.000000   \n",
       "75%      1001.000000    4.026532e+09     233.000000      42.000000   \n",
       "max      1001.000000    4.026532e+09     243.000000    1010.000000   \n",
       "\n",
       "           eventName  stackAddresses        argsNum    returnValue  \\\n",
       "count  188967.000000   188967.000000  188967.000000  188967.000000   \n",
       "mean       12.341007     4107.200638       2.894569     -66.556991   \n",
       "std         8.469662      491.884767       0.638079     369.241105   \n",
       "min         0.000000        0.000000       0.000000    -115.000000   \n",
       "25%         9.000000     4195.000000       3.000000    -114.000000   \n",
       "50%         9.000000     4195.000000       3.000000    -114.000000   \n",
       "75%         9.000000     4195.000000       3.000000    -114.000000   \n",
       "max        45.000000     4195.000000       5.000000   32768.000000   \n",
       "\n",
       "                args            sus           evil  \n",
       "count  188967.000000  188967.000000  188967.000000  \n",
       "mean    22351.441511       0.907349       0.838411  \n",
       "std      8709.013823       0.289944       0.368074  \n",
       "min         0.000000       0.000000       0.000000  \n",
       "25%     17831.000000       1.000000       1.000000  \n",
       "50%     23610.000000       1.000000       1.000000  \n",
       "75%     29411.000000       1.000000       1.000000  \n",
       "max     35176.000000       1.000000       1.000000  "
      ]
     },
     "execution_count": 14,
     "metadata": {},
     "output_type": "execute_result"
    }
   ],
   "source": [
    "data.describe()"
   ]
  },
  {
   "cell_type": "markdown",
   "id": "66b66f30",
   "metadata": {},
   "source": [
    "# Train Test Split"
   ]
  },
  {
   "cell_type": "code",
   "execution_count": 15,
   "id": "6bd33ec2",
   "metadata": {},
   "outputs": [],
   "source": [
    "from sklearn.model_selection import train_test_split\n",
    "from numpy import mean\n",
    "from numpy import std\n",
    "X = data.drop(['sus','evil','hostName','timestamp'], axis = 1)\n",
    "\n",
    "Y = data['sus']\n",
    "\n",
    "# Fitting all data as training and testing.\n",
    "#x_train, y_train = (X, Y)\n",
    "#x_test, y_test = (X, Y)"
   ]
  },
  {
   "cell_type": "code",
   "execution_count": 16,
   "id": "063167e4",
   "metadata": {},
   "outputs": [],
   "source": [
    "# from collections import Counter\n",
    "# from imblearn.over_sampling import SMOTE\n",
    "# counter = Counter(Y)\n",
    "# print('Before', counter)\n",
    "# smt = SMOTE()\n",
    "# X, Y = smt.fit_resample(X, Y)\n",
    "# counter = Counter(Y)\n",
    "# print('After', counter)"
   ]
  },
  {
   "cell_type": "code",
   "execution_count": 17,
   "id": "27a1c9a0",
   "metadata": {},
   "outputs": [
    {
     "data": {
      "text/html": [
       "<div>\n",
       "<style scoped>\n",
       "    .dataframe tbody tr th:only-of-type {\n",
       "        vertical-align: middle;\n",
       "    }\n",
       "\n",
       "    .dataframe tbody tr th {\n",
       "        vertical-align: top;\n",
       "    }\n",
       "\n",
       "    .dataframe thead th {\n",
       "        text-align: right;\n",
       "    }\n",
       "</style>\n",
       "<table border=\"1\" class=\"dataframe\">\n",
       "  <thead>\n",
       "    <tr style=\"text-align: right;\">\n",
       "      <th></th>\n",
       "      <th>processId</th>\n",
       "      <th>threadId</th>\n",
       "      <th>parentProcessId</th>\n",
       "      <th>userId</th>\n",
       "      <th>mountNamespace</th>\n",
       "      <th>processName</th>\n",
       "      <th>eventId</th>\n",
       "      <th>eventName</th>\n",
       "      <th>stackAddresses</th>\n",
       "      <th>argsNum</th>\n",
       "      <th>returnValue</th>\n",
       "      <th>args</th>\n",
       "    </tr>\n",
       "  </thead>\n",
       "  <tbody>\n",
       "    <tr>\n",
       "      <th>0</th>\n",
       "      <td>382</td>\n",
       "      <td>382</td>\n",
       "      <td>1</td>\n",
       "      <td>101</td>\n",
       "      <td>4026532232</td>\n",
       "      <td>78</td>\n",
       "      <td>41</td>\n",
       "      <td>40</td>\n",
       "      <td>1601</td>\n",
       "      <td>3</td>\n",
       "      <td>15</td>\n",
       "      <td>6912</td>\n",
       "    </tr>\n",
       "    <tr>\n",
       "      <th>1</th>\n",
       "      <td>379</td>\n",
       "      <td>379</td>\n",
       "      <td>1</td>\n",
       "      <td>100</td>\n",
       "      <td>4026532231</td>\n",
       "      <td>77</td>\n",
       "      <td>41</td>\n",
       "      <td>40</td>\n",
       "      <td>1158</td>\n",
       "      <td>3</td>\n",
       "      <td>15</td>\n",
       "      <td>6912</td>\n",
       "    </tr>\n",
       "    <tr>\n",
       "      <th>2</th>\n",
       "      <td>1</td>\n",
       "      <td>1</td>\n",
       "      <td>0</td>\n",
       "      <td>0</td>\n",
       "      <td>4026531840</td>\n",
       "      <td>73</td>\n",
       "      <td>1005</td>\n",
       "      <td>32</td>\n",
       "      <td>2206</td>\n",
       "      <td>4</td>\n",
       "      <td>0</td>\n",
       "      <td>12213</td>\n",
       "    </tr>\n",
       "    <tr>\n",
       "      <th>3</th>\n",
       "      <td>1</td>\n",
       "      <td>1</td>\n",
       "      <td>0</td>\n",
       "      <td>0</td>\n",
       "      <td>4026531840</td>\n",
       "      <td>73</td>\n",
       "      <td>257</td>\n",
       "      <td>28</td>\n",
       "      <td>4195</td>\n",
       "      <td>4</td>\n",
       "      <td>17</td>\n",
       "      <td>2628</td>\n",
       "    </tr>\n",
       "    <tr>\n",
       "      <th>4</th>\n",
       "      <td>1</td>\n",
       "      <td>1</td>\n",
       "      <td>0</td>\n",
       "      <td>0</td>\n",
       "      <td>4026531840</td>\n",
       "      <td>73</td>\n",
       "      <td>5</td>\n",
       "      <td>17</td>\n",
       "      <td>2159</td>\n",
       "      <td>2</td>\n",
       "      <td>0</td>\n",
       "      <td>7099</td>\n",
       "    </tr>\n",
       "    <tr>\n",
       "      <th>...</th>\n",
       "      <td>...</td>\n",
       "      <td>...</td>\n",
       "      <td>...</td>\n",
       "      <td>...</td>\n",
       "      <td>...</td>\n",
       "      <td>...</td>\n",
       "      <td>...</td>\n",
       "      <td>...</td>\n",
       "      <td>...</td>\n",
       "      <td>...</td>\n",
       "      <td>...</td>\n",
       "      <td>...</td>\n",
       "    </tr>\n",
       "    <tr>\n",
       "      <th>188962</th>\n",
       "      <td>7555</td>\n",
       "      <td>7555</td>\n",
       "      <td>7548</td>\n",
       "      <td>1001</td>\n",
       "      <td>4026531840</td>\n",
       "      <td>233</td>\n",
       "      <td>42</td>\n",
       "      <td>9</td>\n",
       "      <td>4195</td>\n",
       "      <td>3</td>\n",
       "      <td>-114</td>\n",
       "      <td>25342</td>\n",
       "    </tr>\n",
       "    <tr>\n",
       "      <th>188963</th>\n",
       "      <td>7555</td>\n",
       "      <td>7555</td>\n",
       "      <td>7548</td>\n",
       "      <td>1001</td>\n",
       "      <td>4026531840</td>\n",
       "      <td>233</td>\n",
       "      <td>42</td>\n",
       "      <td>9</td>\n",
       "      <td>4195</td>\n",
       "      <td>3</td>\n",
       "      <td>-114</td>\n",
       "      <td>25363</td>\n",
       "    </tr>\n",
       "    <tr>\n",
       "      <th>188964</th>\n",
       "      <td>7555</td>\n",
       "      <td>7555</td>\n",
       "      <td>7548</td>\n",
       "      <td>1001</td>\n",
       "      <td>4026531840</td>\n",
       "      <td>233</td>\n",
       "      <td>42</td>\n",
       "      <td>9</td>\n",
       "      <td>4195</td>\n",
       "      <td>3</td>\n",
       "      <td>-114</td>\n",
       "      <td>25385</td>\n",
       "    </tr>\n",
       "    <tr>\n",
       "      <th>188965</th>\n",
       "      <td>7555</td>\n",
       "      <td>7555</td>\n",
       "      <td>7548</td>\n",
       "      <td>1001</td>\n",
       "      <td>4026531840</td>\n",
       "      <td>233</td>\n",
       "      <td>42</td>\n",
       "      <td>9</td>\n",
       "      <td>4195</td>\n",
       "      <td>3</td>\n",
       "      <td>-114</td>\n",
       "      <td>25407</td>\n",
       "    </tr>\n",
       "    <tr>\n",
       "      <th>188966</th>\n",
       "      <td>7555</td>\n",
       "      <td>7555</td>\n",
       "      <td>7548</td>\n",
       "      <td>1001</td>\n",
       "      <td>4026531840</td>\n",
       "      <td>233</td>\n",
       "      <td>42</td>\n",
       "      <td>9</td>\n",
       "      <td>4195</td>\n",
       "      <td>3</td>\n",
       "      <td>-114</td>\n",
       "      <td>25427</td>\n",
       "    </tr>\n",
       "  </tbody>\n",
       "</table>\n",
       "<p>188967 rows × 12 columns</p>\n",
       "</div>"
      ],
      "text/plain": [
       "        processId  threadId  parentProcessId  userId  mountNamespace  \\\n",
       "0             382       382                1     101      4026532232   \n",
       "1             379       379                1     100      4026532231   \n",
       "2               1         1                0       0      4026531840   \n",
       "3               1         1                0       0      4026531840   \n",
       "4               1         1                0       0      4026531840   \n",
       "...           ...       ...              ...     ...             ...   \n",
       "188962       7555      7555             7548    1001      4026531840   \n",
       "188963       7555      7555             7548    1001      4026531840   \n",
       "188964       7555      7555             7548    1001      4026531840   \n",
       "188965       7555      7555             7548    1001      4026531840   \n",
       "188966       7555      7555             7548    1001      4026531840   \n",
       "\n",
       "        processName  eventId  eventName  stackAddresses  argsNum  returnValue  \\\n",
       "0                78       41         40            1601        3           15   \n",
       "1                77       41         40            1158        3           15   \n",
       "2                73     1005         32            2206        4            0   \n",
       "3                73      257         28            4195        4           17   \n",
       "4                73        5         17            2159        2            0   \n",
       "...             ...      ...        ...             ...      ...          ...   \n",
       "188962          233       42          9            4195        3         -114   \n",
       "188963          233       42          9            4195        3         -114   \n",
       "188964          233       42          9            4195        3         -114   \n",
       "188965          233       42          9            4195        3         -114   \n",
       "188966          233       42          9            4195        3         -114   \n",
       "\n",
       "         args  \n",
       "0        6912  \n",
       "1        6912  \n",
       "2       12213  \n",
       "3        2628  \n",
       "4        7099  \n",
       "...       ...  \n",
       "188962  25342  \n",
       "188963  25363  \n",
       "188964  25385  \n",
       "188965  25407  \n",
       "188966  25427  \n",
       "\n",
       "[188967 rows x 12 columns]"
      ]
     },
     "execution_count": 17,
     "metadata": {},
     "output_type": "execute_result"
    }
   ],
   "source": [
    "X"
   ]
  },
  {
   "cell_type": "code",
   "execution_count": 18,
   "id": "d15d4259",
   "metadata": {},
   "outputs": [],
   "source": [
    "x_train, x_test, y_train, y_test = train_test_split(X, Y, test_size = 0.4,random_state = 109) # 80% training and 20% test\n"
   ]
  },
  {
   "cell_type": "code",
   "execution_count": 19,
   "id": "d6a99996",
   "metadata": {},
   "outputs": [],
   "source": [
    "x_train_smt = x_train \n",
    "x_test_smt = x_test\n",
    "y_train_smt = y_train \n",
    "y_test_smt  = y_test"
   ]
  },
  {
   "cell_type": "markdown",
   "id": "a8821bb5",
   "metadata": {},
   "source": [
    "# SMOTE Balancing"
   ]
  },
  {
   "cell_type": "code",
   "execution_count": 20,
   "id": "9be7655b",
   "metadata": {},
   "outputs": [
    {
     "data": {
      "text/plain": [
       "\"from collections import Counter\\nfrom imblearn.over_sampling import SMOTE\\ncounter = Counter(y_train)\\nprint('Before', counter)\\nsmt = SMOTE()\\nx_train_smt, y_train_smt = smt.fit_resample(x_train, y_train)\\ncounter = Counter(y_train_smt)\\nprint('After', counter)\""
      ]
     },
     "execution_count": 20,
     "metadata": {},
     "output_type": "execute_result"
    }
   ],
   "source": [
    "'''from collections import Counter\n",
    "from imblearn.over_sampling import SMOTE\n",
    "counter = Counter(y_train)\n",
    "print('Before', counter)\n",
    "smt = SMOTE()\n",
    "x_train_smt, y_train_smt = smt.fit_resample(x_train, y_train)\n",
    "counter = Counter(y_train_smt)\n",
    "print('After', counter)'''\n"
   ]
  },
  {
   "cell_type": "code",
   "execution_count": 21,
   "id": "e6a49922",
   "metadata": {},
   "outputs": [
    {
     "data": {
      "text/plain": [
       "\"from collections import Counter\\nfrom imblearn.over_sampling import SMOTE\\ncounter = Counter(y_test)\\nprint('Before', counter)\\nsmt = SMOTE()\\nx_test_smt, y_test_smt = smt.fit_resample(x_test, y_test)\\ncounter = Counter(y_test_smt)\\nprint('After', counter)\\n\""
      ]
     },
     "execution_count": 21,
     "metadata": {},
     "output_type": "execute_result"
    }
   ],
   "source": [
    "'''from collections import Counter\n",
    "from imblearn.over_sampling import SMOTE\n",
    "counter = Counter(y_test)\n",
    "print('Before', counter)\n",
    "smt = SMOTE()\n",
    "x_test_smt, y_test_smt = smt.fit_resample(x_test, y_test)\n",
    "counter = Counter(y_test_smt)\n",
    "print('After', counter)\n",
    "'''"
   ]
  },
  {
   "cell_type": "markdown",
   "id": "499e72d7",
   "metadata": {},
   "source": [
    "# ADASYN - Balancing"
   ]
  },
  {
   "cell_type": "code",
   "execution_count": 22,
   "id": "0e9c6c01",
   "metadata": {},
   "outputs": [
    {
     "data": {
      "text/plain": [
       "\"\\nfrom collections import Counter\\nfrom imblearn.over_sampling import ADASYN\\ncounter = Counter(y_train)\\nprint('Before', counter)\\nada = ADASYN(random_state = 130)\\nx_train_smt, y_train_smt = ada.fit_resample(x_train, y_train)\\ncounter = Counter(y_train_smt)\\nprint('After', counter)\\n\""
      ]
     },
     "execution_count": 22,
     "metadata": {},
     "output_type": "execute_result"
    }
   ],
   "source": [
    "\"\"\"\n",
    "from collections import Counter\n",
    "from imblearn.over_sampling import ADASYN\n",
    "counter = Counter(y_train)\n",
    "print('Before', counter)\n",
    "ada = ADASYN(random_state = 130)\n",
    "x_train_smt, y_train_smt = ada.fit_resample(x_train, y_train)\n",
    "counter = Counter(y_train_smt)\n",
    "print('After', counter)\n",
    "\"\"\""
   ]
  },
  {
   "cell_type": "code",
   "execution_count": 23,
   "id": "32255b5e",
   "metadata": {},
   "outputs": [
    {
     "data": {
      "text/plain": [
       "\"\\nfrom collections import Counter\\nfrom imblearn.over_sampling import ADASYN\\ncounter = Counter(y_test)\\nprint('Before', counter)\\nada = ADASYN(random_state = 130)\\nx_test_smt, y_test_smt = ada.fit_resample(x_test, y_test)\\ncounter = Counter(y_test_smt)\\nprint('After', counter)\\n\""
      ]
     },
     "execution_count": 23,
     "metadata": {},
     "output_type": "execute_result"
    }
   ],
   "source": [
    "\"\"\"\n",
    "from collections import Counter\n",
    "from imblearn.over_sampling import ADASYN\n",
    "counter = Counter(y_test)\n",
    "print('Before', counter)\n",
    "ada = ADASYN(random_state = 130)\n",
    "x_test_smt, y_test_smt = ada.fit_resample(x_test, y_test)\n",
    "counter = Counter(y_test_smt)\n",
    "print('After', counter)\n",
    "\"\"\""
   ]
  },
  {
   "cell_type": "markdown",
   "id": "a084133c",
   "metadata": {},
   "source": [
    "# SMOTETomek Balancing"
   ]
  },
  {
   "cell_type": "code",
   "execution_count": 24,
   "id": "818e0e3f",
   "metadata": {},
   "outputs": [
    {
     "data": {
      "text/plain": [
       "\"\\nfrom collections import Counter\\nfrom imblearn.combine import SMOTETomek\\ncounter = Counter(y_train)\\nprint('Before', counter)\\nsmtt = SMOTETomek(random_state = 139)\\nx_train_smt, y_train_smt = smtt.fit_resample(x_train, y_train)\\ncounter = Counter(y_train_smt)\\nprint('After', counter)\""
      ]
     },
     "execution_count": 24,
     "metadata": {},
     "output_type": "execute_result"
    }
   ],
   "source": [
    "'''\n",
    "from collections import Counter\n",
    "from imblearn.combine import SMOTETomek\n",
    "counter = Counter(y_train)\n",
    "print('Before', counter)\n",
    "smtt = SMOTETomek(random_state = 139)\n",
    "x_train_smt, y_train_smt = smtt.fit_resample(x_train, y_train)\n",
    "counter = Counter(y_train_smt)\n",
    "print('After', counter)'''"
   ]
  },
  {
   "cell_type": "code",
   "execution_count": 25,
   "id": "4b4e1aa3",
   "metadata": {},
   "outputs": [
    {
     "data": {
      "text/plain": [
       "\"\\nfrom collections import Counter\\nfrom imblearn.combine import SMOTETomek\\ncounter = Counter(y_test)\\nprint('Before', counter)\\nsmtt = SMOTETomek(random_state = 139)\\nx_test_smt, y_test_smt = smtt.fit_resample(x_test, y_test)\\ncounter = Counter(y_test_smt)\\nprint('After', counter)\\n\""
      ]
     },
     "execution_count": 25,
     "metadata": {},
     "output_type": "execute_result"
    }
   ],
   "source": [
    "'''\n",
    "from collections import Counter\n",
    "from imblearn.combine import SMOTETomek\n",
    "counter = Counter(y_test)\n",
    "print('Before', counter)\n",
    "smtt = SMOTETomek(random_state = 139)\n",
    "x_test_smt, y_test_smt = smtt.fit_resample(x_test, y_test)\n",
    "counter = Counter(y_test_smt)\n",
    "print('After', counter)\n",
    "'''"
   ]
  },
  {
   "cell_type": "markdown",
   "id": "f4ef41cb",
   "metadata": {},
   "source": [
    "# Support Vector Classifier Train, Test "
   ]
  },
  {
   "cell_type": "code",
   "execution_count": 26,
   "id": "1b42ba63",
   "metadata": {},
   "outputs": [],
   "source": [
    "# from sklearn.svm import SVC\n",
    "# from sklearn.metrics import accuracy_score\n",
    "# modelSVC = SVC(probability=True)\n",
    "# modelSVC.fit(x_train_smt, y_train_smt)\n",
    "# print(modelSVC.score(x_test_smt, y_test_smt))\n",
    "\n",
    "# y_pred = modelSVC.predict(x_test_smt)\n",
    "# y_final = y_test\n",
    "# y_pred_svc = y_pred\n",
    "# ac = accuracy_score(y_test_smt, y_pred)\n",
    "# print(ac)"
   ]
  },
  {
   "cell_type": "markdown",
   "id": "f57101df",
   "metadata": {},
   "source": [
    "# Performance Measure of SVC"
   ]
  },
  {
   "cell_type": "code",
   "execution_count": 27,
   "id": "9213e825",
   "metadata": {},
   "outputs": [],
   "source": [
    "# from sklearn.metrics import confusion_matrix\n",
    "# from sklearn.metrics import classification_report\n",
    "\n",
    "# y_pred = modelSVC.predict(x_test_smt)\n",
    "# print(confusion_matrix(y_test_smt, y_pred))\n",
    "# print(classification_report(y_test_smt, y_pred))"
   ]
  },
  {
   "cell_type": "code",
   "execution_count": 28,
   "id": "9da7b475",
   "metadata": {},
   "outputs": [],
   "source": [
    "# from sklearn.metrics import cohen_kappa_score\n",
    "# cmSVC = confusion_matrix(y_test_smt, modelSVC.predict(x_test_smt))\n",
    "\n",
    "# #If we use TP TN FP and FN of below's comment we get range\n",
    "# #FP = cmSVC.sum(axis=0) - np.diag(cmSVC)  \n",
    "# #FN = cmSVC.sum(axis=1) - np.diag(cmSVC)\n",
    "# #TP = np.diag(cmSVC)\n",
    "# #TN = cmSVC.sum() - (FP + FN + TP)\n",
    "\n",
    "# TP = cmSVC[1,1]  \n",
    "# TN = cmSVC[0,0] \n",
    "# FP = cmSVC[0,1] \n",
    "# FN = cmSVC[1,0] \n",
    "\n",
    "# # Sensitivity, hit rate, recall, or true positive rate\n",
    "# TPR = TP/float(TP+FN)\n",
    "# # Specificity or true negative rate\n",
    "# TNR = TN/float(TN+FP) \n",
    "# # Precision or positive predictive value\n",
    "# PPV = TP/float(TP+FP)\n",
    "# # Negative predictive value\n",
    "# NPV = TN/float(TN+FN)\n",
    "# # Fall out or false positive rate\n",
    "# FPR = FP/float(FP+TN)\n",
    "# # False negative rate\n",
    "# FNR = FN/float(TP+FN)\n",
    "# # False discovery rate\n",
    "# FDR = FP/float(TP+FP)\n",
    "# totalSVC=sum(sum(cmSVC))\n",
    "# Accuracy = (TN+TP)/totalSVC\n",
    "# # MCC\n",
    "# val = (TP * TN) - (FP * FN)\n",
    "# MCC_SVC = val / np.sqrt((TP + FP) * (TP + FN) * (TN + FP) * (TN + FN))\n",
    "# # Cohen Kappa\n",
    "# Y_pred = modelSVC.predict(x_test_smt)\n",
    "# cohen_score = cohen_kappa_score(y_test_smt, Y_pred)\n",
    "\n",
    "# print(\"Sensitivity/TPR: \" + str(TPR))\n",
    "# print(\"FPR: \" + str(FPR))\n",
    "# print(\"Specificity/TNR: \" + str(TNR))\n",
    "# print(\"MCC: \" + str(MCC_SVC))\n",
    "# print(\"Cohen Kappa: \" + str(cohen_score))"
   ]
  },
  {
   "cell_type": "markdown",
   "id": "137406e5",
   "metadata": {},
   "source": [
    "# AUC Score"
   ]
  },
  {
   "cell_type": "code",
   "execution_count": 29,
   "id": "0467f1e6",
   "metadata": {},
   "outputs": [],
   "source": [
    "# from sklearn.metrics import roc_auc_score\n",
    "\n",
    "# # predict probabilities\n",
    "# pred_prob1 = modelSVC.predict_proba(x_test_smt)\n",
    "# pred_prob2 = modelSVC.predict_proba(x_test_smt)\n",
    "\n",
    "# # auc scores\n",
    "# auc_score1 = roc_auc_score(y_test_smt, pred_prob1[:,1])\n",
    "# auc_score2 = roc_auc_score(y_test_smt, pred_prob2[:,1])\n",
    "\n",
    "# print(auc_score1, auc_score2)"
   ]
  },
  {
   "cell_type": "markdown",
   "id": "c470b8a8",
   "metadata": {},
   "source": [
    "# Support Vector Classifier K - Fold CV"
   ]
  },
  {
   "cell_type": "code",
   "execution_count": 30,
   "id": "fcd35366",
   "metadata": {},
   "outputs": [],
   "source": [
    "# from sklearn.model_selection import cross_val_score\n",
    "# cv_score_for_SVC = cross_val_score(modelSVC, x_train_smt, y_train_smt, cv = 10)\n",
    "# cv_score_for_SVC"
   ]
  },
  {
   "cell_type": "code",
   "execution_count": 31,
   "id": "47140786",
   "metadata": {},
   "outputs": [],
   "source": [
    "# print('Accuracy mean and std : %.3f (%.3f)' % (mean(cv_score_for_SVC), std(cv_score_for_SVC)))"
   ]
  },
  {
   "cell_type": "code",
   "execution_count": 32,
   "id": "58c1ef06",
   "metadata": {},
   "outputs": [],
   "source": [
    "# from sklearn.metrics import confusion_matrix\n",
    "# from sklearn.metrics import classification_report\n",
    "\n",
    "# y_pred = modelSVC.predict(x_test_smt)\n",
    "# print(confusion_matrix(y_test_smt, y_pred))\n",
    "# print(classification_report(y_test_smt, y_pred))"
   ]
  },
  {
   "cell_type": "markdown",
   "id": "c90e5fd1",
   "metadata": {},
   "source": [
    "# Decision Tree Classifier Train, Test"
   ]
  },
  {
   "cell_type": "code",
   "execution_count": 33,
   "id": "9eb57f0d",
   "metadata": {},
   "outputs": [
    {
     "name": "stdout",
     "output_type": "stream",
     "text": [
      "0.9994972680487385\n",
      "0.9994972680487385\n"
     ]
    }
   ],
   "source": [
    "from sklearn import tree\n",
    "from sklearn.metrics import accuracy_score\n",
    "\n",
    "\n",
    "modelDTC = tree.DecisionTreeClassifier(max_depth=19, min_samples_leaf=9, min_samples_split=10)\n",
    "modelDTC.fit(x_train_smt, y_train_smt)\n",
    "print(modelDTC.score(x_test_smt, y_test_smt))\n",
    "\n",
    "# Predicting the Test set results\n",
    "y_pred = modelDTC.predict(x_test_smt)\n",
    "ac = accuracy_score(y_test_smt, y_pred)\n",
    "print(ac)"
   ]
  },
  {
   "cell_type": "markdown",
   "id": "c1ad31be",
   "metadata": {},
   "source": [
    "# Performance Measure of DTC"
   ]
  },
  {
   "cell_type": "code",
   "execution_count": 34,
   "id": "e33cee49",
   "metadata": {},
   "outputs": [
    {
     "name": "stdout",
     "output_type": "stream",
     "text": [
      "[[ 6962    26]\n",
      " [   12 68587]]\n",
      "              precision    recall  f1-score   support\n",
      "\n",
      "           0       1.00      1.00      1.00      6988\n",
      "           1       1.00      1.00      1.00     68599\n",
      "\n",
      "    accuracy                           1.00     75587\n",
      "   macro avg       1.00      1.00      1.00     75587\n",
      "weighted avg       1.00      1.00      1.00     75587\n",
      "\n"
     ]
    }
   ],
   "source": [
    "\n",
    "from sklearn.metrics import confusion_matrix\n",
    "from sklearn.metrics import classification_report\n",
    "\n",
    "y_pred = modelDTC.predict(x_test_smt)\n",
    "print(confusion_matrix(y_test_smt, y_pred))\n",
    "print(classification_report(y_test_smt, y_pred))"
   ]
  },
  {
   "cell_type": "code",
   "execution_count": 35,
   "id": "3cb351b8",
   "metadata": {},
   "outputs": [
    {
     "name": "stdout",
     "output_type": "stream",
     "text": [
      "Sensitivity/TPR: 0.9998250703363023\n",
      "FPR: 0.003720663995420721\n",
      "Specificity/TNR: 0.9962793360045793\n",
      "MCC: 0.9970019918972812\n",
      "Cohen Kappa: 0.9970013834865052\n"
     ]
    }
   ],
   "source": [
    "from sklearn.metrics import cohen_kappa_score\n",
    "cmDTC = confusion_matrix(y_test_smt, modelDTC.predict(x_test_smt))\n",
    "\n",
    "#If we use TP TN FP and FN of below's comment we get range\n",
    "#FP = cmSVC.sum(axis=0) - np.diag(cmSVC)  \n",
    "#FN = cmSVC.sum(axis=1) - np.diag(cmSVC)\n",
    "#TP = np.diag(cmSVC)\n",
    "#TN = cmSVC.sum() - (FP + FN + TP)\n",
    "\n",
    "TP = cmDTC[1,1]  \n",
    "TN = cmDTC[0,0] \n",
    "FP = cmDTC[0,1] \n",
    "FN = cmDTC[1,0] \n",
    "\n",
    "# Sensitivity, hit rate, recall, or true positive rate\n",
    "TPR = TP/float(TP+FN)\n",
    "# Specificity or true negative rate\n",
    "TNR = TN/float(TN+FP) \n",
    "# Precision or positive predictive value\n",
    "PPV = TP/float(TP+FP)\n",
    "# Negative predictive value\n",
    "NPV = TN/float(TN+FN)\n",
    "# Fall out or false positive rate\n",
    "FPR = FP/float(FP+TN)\n",
    "# False negative rate\n",
    "FNR = FN/float(TP+FN)\n",
    "# False discovery rate\n",
    "FDR = FP/float(TP+FP)\n",
    "# Accuracy\n",
    "totalDTC=sum(sum(cmDTC))\n",
    "Accuracy = (TN+TP)/totalDTC\n",
    "# MCC\n",
    "val = (TP * TN) - (FP * FN)\n",
    "MCC_DTC = val / np.sqrt((TP + FP) * (TP + FN) * (TN + FP) * (TN + FN))\n",
    "# Cohen Kappa\n",
    "Y_pred = modelDTC.predict(x_test_smt)\n",
    "cohen_score = cohen_kappa_score(y_test_smt, Y_pred)\n",
    "\n",
    "print(\"Sensitivity/TPR: \" + str(TPR))\n",
    "print(\"FPR: \" + str(FPR))\n",
    "print(\"Specificity/TNR: \" + str(TNR))\n",
    "print(\"MCC: \" + str(MCC_DTC))\n",
    "print(\"Cohen Kappa: \" + str(cohen_score))"
   ]
  },
  {
   "cell_type": "markdown",
   "id": "b3856749",
   "metadata": {},
   "source": [
    "# AUC Score"
   ]
  },
  {
   "cell_type": "code",
   "execution_count": 36,
   "id": "40e3fdd2",
   "metadata": {},
   "outputs": [
    {
     "name": "stdout",
     "output_type": "stream",
     "text": [
      "0.9999274401534488 0.9999274401534488\n"
     ]
    }
   ],
   "source": [
    "from sklearn.metrics import roc_auc_score\n",
    "\n",
    "# predict probabilities\n",
    "pred_prob1 = modelDTC.predict_proba(x_test_smt)\n",
    "pred_prob2 = modelDTC.predict_proba(x_test_smt)\n",
    "\n",
    "# auc scores\n",
    "auc_score1 = roc_auc_score(y_test_smt, pred_prob1[:,1])\n",
    "auc_score2 = roc_auc_score(y_test_smt, pred_prob2[:,1])\n",
    "\n",
    "print(auc_score1, auc_score2)"
   ]
  },
  {
   "cell_type": "markdown",
   "id": "c454ee0b",
   "metadata": {},
   "source": [
    "# Random Forest Training and Testing"
   ]
  },
  {
   "cell_type": "code",
   "execution_count": 37,
   "id": "03a581f4",
   "metadata": {},
   "outputs": [
    {
     "name": "stdout",
     "output_type": "stream",
     "text": [
      "0.9999338510590445\n",
      "0.9999338510590445\n"
     ]
    }
   ],
   "source": [
    "from sklearn import ensemble\n",
    "from sklearn.metrics import accuracy_score\n",
    "\n",
    "modelRFC = ensemble.RandomForestClassifier(n_estimators = 100)\n",
    "modelRFC.fit(x_train_smt, y_train_smt)\n",
    "print(modelRFC.score(x_test_smt, y_test_smt))\n",
    "\n",
    "\n",
    "# Predicting the Test set results\n",
    "y_pred = modelRFC.predict(x_test_smt)\n",
    "ac = accuracy_score(y_test_smt, y_pred)\n",
    "\n",
    "y_pred_rf = y_pred\n",
    "print(ac)"
   ]
  },
  {
   "cell_type": "markdown",
   "id": "15d6e466",
   "metadata": {},
   "source": [
    "# Performance Measure of RFC"
   ]
  },
  {
   "cell_type": "code",
   "execution_count": 38,
   "id": "d58784f2",
   "metadata": {},
   "outputs": [
    {
     "name": "stdout",
     "output_type": "stream",
     "text": [
      "[[ 6985     3]\n",
      " [    2 68597]]\n",
      "              precision    recall  f1-score   support\n",
      "\n",
      "           0       1.00      1.00      1.00      6988\n",
      "           1       1.00      1.00      1.00     68599\n",
      "\n",
      "    accuracy                           1.00     75587\n",
      "   macro avg       1.00      1.00      1.00     75587\n",
      "weighted avg       1.00      1.00      1.00     75587\n",
      "\n"
     ]
    }
   ],
   "source": [
    "from sklearn.metrics import confusion_matrix\n",
    "from sklearn.metrics import classification_report\n",
    "\n",
    "y_pred = modelRFC.predict(x_test_smt)\n",
    "print(confusion_matrix(y_test_smt, y_pred))\n",
    "print(classification_report(y_test_smt, y_pred))"
   ]
  },
  {
   "cell_type": "code",
   "execution_count": 39,
   "id": "78df7965",
   "metadata": {},
   "outputs": [
    {
     "name": "stdout",
     "output_type": "stream",
     "text": [
      "Sensitivity/TPR: 0.9999708450560504\n",
      "FPR: 0.0004293073840870063\n",
      "Specificity/TNR: 0.999570692615913\n",
      "MCC: 0.9996057779398088\n",
      "Cohen Kappa: 0.9996057748327645\n"
     ]
    }
   ],
   "source": [
    "from sklearn.metrics import cohen_kappa_score\n",
    "cmRFC = confusion_matrix(y_test_smt, modelRFC.predict(x_test_smt))\n",
    "\n",
    "#If we use TP TN FP and FN of below's comment we get range\n",
    "#FP = cmSVC.sum(axis=0) - np.diag(cmSVC)  \n",
    "#FN = cmSVC.sum(axis=1) - np.diag(cmSVC)\n",
    "#TP = np.diag(cmSVC)\n",
    "#TN = cmSVC.sum() - (FP + FN + TP)\n",
    "\n",
    "TP = cmRFC[1,1]  \n",
    "TN = cmRFC[0,0] \n",
    "FP = cmRFC[0,1] \n",
    "FN = cmRFC[1,0] \n",
    "\n",
    "# Sensitivity, hit rate, recall, or true positive rate\n",
    "TPR = TP/float(TP+FN)\n",
    "# Specificity or true negative rate\n",
    "TNR = TN/float(TN+FP) \n",
    "# Precision or positive predictive value\n",
    "PPV = TP/float(TP+FP)\n",
    "# Negative predictive value\n",
    "NPV = TN/float(TN+FN)\n",
    "# Fall out or false positive rate\n",
    "FPR = FP/float(FP+TN)\n",
    "# False negative rate\n",
    "FNR = FN/float(TP+FN)\n",
    "# False discovery rate\n",
    "FDR = FP/float(TP+FP)\n",
    "# Accuracy\n",
    "totalRFC=sum(sum(cmRFC))\n",
    "Accuracy = (TN+TP)/totalRFC\n",
    "# MCC\n",
    "val = (TP * TN) - (FP * FN)\n",
    "MCC_RFC = val / np.sqrt((TP + FP) * (TP + FN) * (TN + FP) * (TN + FN))\n",
    "# Cohen Kappa\n",
    "Y_pred = modelRFC.predict(x_test_smt)\n",
    "cohen_score = cohen_kappa_score(y_test_smt, Y_pred)\n",
    "\n",
    "print(\"Sensitivity/TPR: \" + str(TPR))\n",
    "print(\"FPR: \" + str(FPR))\n",
    "print(\"Specificity/TNR: \" + str(TNR))\n",
    "print(\"MCC: \" + str(MCC_RFC))\n",
    "print(\"Cohen Kappa: \" + str(cohen_score))"
   ]
  },
  {
   "cell_type": "markdown",
   "id": "fc536b73",
   "metadata": {},
   "source": [
    "# AUC Score"
   ]
  },
  {
   "cell_type": "code",
   "execution_count": 40,
   "id": "ee839da8",
   "metadata": {},
   "outputs": [
    {
     "name": "stdout",
     "output_type": "stream",
     "text": [
      "0.9999999269874758 0.9999999269874758\n"
     ]
    }
   ],
   "source": [
    "from sklearn.metrics import roc_auc_score\n",
    "\n",
    "# predict probabilities\n",
    "pred_prob1 = modelRFC.predict_proba(x_test_smt)\n",
    "pred_prob2 = modelRFC.predict_proba(x_test_smt)\n",
    "\n",
    "# auc scores\n",
    "auc_score1 = roc_auc_score(y_test_smt, pred_prob1[:,1])\n",
    "auc_score2 = roc_auc_score(y_test_smt, pred_prob2[:,1])\n",
    "\n",
    "print(auc_score1, auc_score2)"
   ]
  },
  {
   "cell_type": "markdown",
   "id": "68679304",
   "metadata": {},
   "source": [
    "# Gradient Boosting Classifier Train, Test"
   ]
  },
  {
   "cell_type": "code",
   "execution_count": 41,
   "id": "5facdd7f",
   "metadata": {},
   "outputs": [
    {
     "name": "stdout",
     "output_type": "stream",
     "text": [
      "0.9995898765660762\n",
      "0.9995898765660762\n"
     ]
    }
   ],
   "source": [
    "from sklearn import ensemble\n",
    "from sklearn.metrics import accuracy_score\n",
    "\n",
    "modelGBC = ensemble.GradientBoostingClassifier(max_depth = 3)\n",
    "modelGBC.fit(x_train_smt, y_train_smt)\n",
    "print(modelGBC.score(x_test_smt, y_test_smt))\n",
    "\n",
    "\n",
    "# Predicting the Test set results\n",
    "y_pred = modelGBC.predict(x_test_smt)\n",
    "ac = accuracy_score(y_test_smt, y_pred)\n",
    "print(ac)"
   ]
  },
  {
   "cell_type": "markdown",
   "id": "0b0f1a47",
   "metadata": {},
   "source": [
    "# Performance Measure of GBC"
   ]
  },
  {
   "cell_type": "code",
   "execution_count": 42,
   "id": "9acc125c",
   "metadata": {},
   "outputs": [
    {
     "name": "stdout",
     "output_type": "stream",
     "text": [
      "[[ 6975    13]\n",
      " [   18 68581]]\n",
      "              precision    recall  f1-score   support\n",
      "\n",
      "           0       1.00      1.00      1.00      6988\n",
      "           1       1.00      1.00      1.00     68599\n",
      "\n",
      "    accuracy                           1.00     75587\n",
      "   macro avg       1.00      1.00      1.00     75587\n",
      "weighted avg       1.00      1.00      1.00     75587\n",
      "\n"
     ]
    }
   ],
   "source": [
    "from sklearn.metrics import confusion_matrix\n",
    "from sklearn.metrics import classification_report\n",
    "\n",
    "y_pred = modelGBC.predict(x_test_smt)\n",
    "print(confusion_matrix(y_test_smt, y_pred))\n",
    "print(classification_report(y_test_smt, y_pred))"
   ]
  },
  {
   "cell_type": "code",
   "execution_count": 43,
   "id": "ecff98e2",
   "metadata": {},
   "outputs": [
    {
     "name": "stdout",
     "output_type": "stream",
     "text": [
      "Sensitivity/TPR: 0.9997376055044535\n",
      "FPR: 0.0018603319977103605\n",
      "Specificity/TNR: 0.9981396680022896\n",
      "MCC: 0.9975568235383807\n",
      "Cohen Kappa: 0.9975567460812342\n"
     ]
    }
   ],
   "source": [
    "from sklearn.metrics import cohen_kappa_score\n",
    "cmGBC = confusion_matrix(y_test_smt, modelGBC.predict(x_test_smt))\n",
    "\n",
    "#If we use TP TN FP and FN of below's comment we get range\n",
    "#FP = cmSVC.sum(axis=0) - np.diag(cmSVC)  \n",
    "#FN = cmSVC.sum(axis=1) - np.diag(cmSVC)\n",
    "#TP = np.diag(cmSVC)\n",
    "#TN = cmSVC.sum() - (FP + FN + TP)\n",
    "\n",
    "TP = cmGBC[1,1]  \n",
    "TN = cmGBC[0,0] \n",
    "FP = cmGBC[0,1] \n",
    "FN = cmGBC[1,0] \n",
    "\n",
    "# Sensitivity, hit rate, recall, or true positive rate\n",
    "TPR = TP/float(TP+FN)\n",
    "# Specificity or true negative rate\n",
    "TNR = TN/float(TN+FP) \n",
    "# Precision or positive predictive value\n",
    "PPV = TP/float(TP+FP)\n",
    "# Negative predictive value\n",
    "NPV = TN/float(TN+FN)\n",
    "# Fall out or false positive rate\n",
    "FPR = FP/float(FP+TN)\n",
    "# False negative rate\n",
    "FNR = FN/float(TP+FN)\n",
    "# False discovery rate\n",
    "FDR = FP/float(TP+FP)\n",
    "#Accuracy\n",
    "totalGBC=sum(sum(cmGBC))\n",
    "Accuracy = (TN+TP)/totalGBC\n",
    "# MCC\n",
    "val = (TP * TN) - (FP * FN)\n",
    "MCC_GBC = val / np.sqrt((TP + FP) * (TP + FN) * (TN + FP) * (TN + FN))\n",
    "# Cohen Kappa\n",
    "Y_pred = modelGBC.predict(x_test_smt)\n",
    "cohen_score = cohen_kappa_score(y_test_smt, Y_pred)\n",
    "\n",
    "print(\"Sensitivity/TPR: \" + str(TPR))\n",
    "print(\"FPR: \" + str(FPR))\n",
    "print(\"Specificity/TNR: \" + str(TNR))\n",
    "print(\"MCC: \" + str(MCC_GBC))\n",
    "print(\"Cohen Kappa: \" + str(cohen_score))"
   ]
  },
  {
   "cell_type": "markdown",
   "id": "2a85eeca",
   "metadata": {},
   "source": [
    "# AUC Score"
   ]
  },
  {
   "cell_type": "code",
   "execution_count": 44,
   "id": "e22e7868",
   "metadata": {},
   "outputs": [
    {
     "name": "stdout",
     "output_type": "stream",
     "text": [
      "0.9999978054521297 0.9999978054521297\n"
     ]
    }
   ],
   "source": [
    "from sklearn.metrics import roc_auc_score\n",
    "\n",
    "# predict probabilities\n",
    "pred_prob1 = modelGBC.predict_proba(x_test_smt)\n",
    "pred_prob2 = modelGBC.predict_proba(x_test_smt)\n",
    "\n",
    "# auc scores\n",
    "auc_score1 = roc_auc_score(y_test_smt, pred_prob1[:,1])\n",
    "auc_score2 = roc_auc_score(y_test_smt, pred_prob2[:,1])\n",
    "\n",
    "print(auc_score1, auc_score2)"
   ]
  },
  {
   "cell_type": "markdown",
   "id": "09450179",
   "metadata": {},
   "source": [
    "# Logistic Regression Train, Test"
   ]
  },
  {
   "cell_type": "code",
   "execution_count": 45,
   "id": "453e610a",
   "metadata": {},
   "outputs": [
    {
     "name": "stdout",
     "output_type": "stream",
     "text": [
      "0.9075502401206557\n",
      "0.9075502401206557\n"
     ]
    }
   ],
   "source": [
    "from sklearn.linear_model import LogisticRegression\n",
    "from sklearn.metrics import accuracy_score\n",
    "\n",
    "modelLR = LogisticRegression()\n",
    "modelLR.fit(x_train_smt, y_train_smt)\n",
    "print(modelLR.score(x_test_smt, y_test_smt))\n",
    "\n",
    "\n",
    "# Predicting the Test set results\n",
    "y_pred = modelLR.predict(x_test_smt)\n",
    "ac = accuracy_score(y_test_smt, y_pred)\n",
    "print(ac)"
   ]
  },
  {
   "cell_type": "markdown",
   "id": "3a30afaa",
   "metadata": {},
   "source": [
    "# Performance Measure of LR"
   ]
  },
  {
   "cell_type": "code",
   "execution_count": 46,
   "id": "d49aa596",
   "metadata": {},
   "outputs": [
    {
     "name": "stdout",
     "output_type": "stream",
     "text": [
      "[[    0  6988]\n",
      " [    0 68599]]\n",
      "              precision    recall  f1-score   support\n",
      "\n",
      "           0       0.00      0.00      0.00      6988\n",
      "           1       0.91      1.00      0.95     68599\n",
      "\n",
      "    accuracy                           0.91     75587\n",
      "   macro avg       0.45      0.50      0.48     75587\n",
      "weighted avg       0.82      0.91      0.86     75587\n",
      "\n"
     ]
    }
   ],
   "source": [
    "from sklearn.metrics import confusion_matrix\n",
    "from sklearn.metrics import classification_report\n",
    "\n",
    "y_pred = modelLR.predict(x_test_smt)\n",
    "print(confusion_matrix(y_test_smt, y_pred))\n",
    "print(classification_report(y_test_smt, y_pred))"
   ]
  },
  {
   "cell_type": "code",
   "execution_count": 47,
   "id": "444dc4e2",
   "metadata": {},
   "outputs": [
    {
     "name": "stdout",
     "output_type": "stream",
     "text": [
      "Sensitivity/TPR: 1.0\n",
      "FPR: 1.0\n",
      "Specificity/TNR: 0.0\n",
      "MCC: nan\n",
      "Cohen Kappa: 0.0\n"
     ]
    }
   ],
   "source": [
    "from sklearn.metrics import cohen_kappa_score\n",
    "cmLR = confusion_matrix(y_test_smt, modelLR.predict(x_test_smt))\n",
    "\n",
    "#If we use TP TN FP and FN of below's comment we get range\n",
    "#FP = cmSVC.sum(axis=0) - np.diag(cmSVC)  \n",
    "#FN = cmSVC.sum(axis=1) - np.diag(cmSVC)\n",
    "#TP = np.diag(cmSVC)\n",
    "#TN = cmSVC.sum() - (FP + FN + TP)\n",
    "\n",
    "TP = cmLR[1,1]  \n",
    "TN = cmLR[0,0] \n",
    "FP = cmLR[0,1] \n",
    "FN = cmLR[1,0] \n",
    "\n",
    "# Sensitivity, hit rate, recall, or true positive rate\n",
    "TPR = TP/float(TP+FN)\n",
    "# Specificity or true negative rate\n",
    "TNR = TN/float(TN+FP) \n",
    "# Precision or positive predictive value\n",
    "PPV = TP/float(TP+FP)\n",
    "# Negative predictive value\n",
    "NPV = TN/float(TN+FN)\n",
    "# Fall out or false positive rate\n",
    "FPR = FP/float(FP+TN)\n",
    "# False negative rate\n",
    "FNR = FN/float(TP+FN)\n",
    "# False discovery rate\n",
    "FDR = FP/float(TP+FP)\n",
    "# Accuracy\n",
    "totalLR=sum(sum(cmLR))\n",
    "Accuracy = (TN+TP)/totalLR\n",
    "# MCC\n",
    "val = (TP * TN) - (FP * FN)\n",
    "MCC_LR = val / np.sqrt((TP + FP) * (TP + FN) * (TN + FP) * (TN + FN))\n",
    "# Cohen Kappa\n",
    "Y_pred = modelLR.predict(x_test_smt)\n",
    "cohen_score = cohen_kappa_score(y_test_smt, Y_pred)\n",
    "\n",
    "print(\"Sensitivity/TPR: \" + str(TPR))\n",
    "print(\"FPR: \" + str(FPR))\n",
    "print(\"Specificity/TNR: \" + str(TNR))\n",
    "print(\"MCC: \" + str(MCC_LR))\n",
    "print(\"Cohen Kappa: \" + str(cohen_score))"
   ]
  },
  {
   "cell_type": "markdown",
   "id": "5566715d",
   "metadata": {},
   "source": [
    "# AUC Score"
   ]
  },
  {
   "cell_type": "code",
   "execution_count": 48,
   "id": "e7440ad0",
   "metadata": {},
   "outputs": [
    {
     "name": "stdout",
     "output_type": "stream",
     "text": [
      "0.9228726046687311 0.9228726046687311\n"
     ]
    }
   ],
   "source": [
    "from sklearn.metrics import roc_auc_score\n",
    "\n",
    "# predict probabilities\n",
    "pred_prob1 = modelLR.predict_proba(x_test_smt)\n",
    "pred_prob2 = modelLR.predict_proba(x_test_smt)\n",
    "\n",
    "# auc scores\n",
    "auc_score1 = roc_auc_score(y_test_smt, pred_prob1[:,1])\n",
    "auc_score2 = roc_auc_score(y_test_smt, pred_prob2[:,1])\n",
    "\n",
    "print(auc_score1, auc_score2)"
   ]
  },
  {
   "cell_type": "markdown",
   "id": "904ac738",
   "metadata": {},
   "source": [
    "# KNN Train, Test"
   ]
  },
  {
   "cell_type": "code",
   "execution_count": 49,
   "id": "108e96da",
   "metadata": {},
   "outputs": [
    {
     "name": "stdout",
     "output_type": "stream",
     "text": [
      "0.995647399685131\n",
      "0.995647399685131\n"
     ]
    }
   ],
   "source": [
    "from sklearn.neighbors import KNeighborsClassifier\n",
    "from sklearn.metrics import accuracy_score\n",
    "\n",
    "modelKNN = KNeighborsClassifier(n_neighbors = 5, weights = 'uniform', metric = 'minkowski', p = 2)\n",
    "modelKNN.fit(x_train_smt, y_train_smt)\n",
    "print(modelKNN.score(x_test_smt, y_test_smt))\n",
    "\n",
    "# Predicting the Test set results\n",
    "y_pred = modelKNN.predict(x_test_smt)\n",
    "ac = accuracy_score(y_test_smt, y_pred)\n",
    "print(ac)"
   ]
  },
  {
   "cell_type": "markdown",
   "id": "eea1431a",
   "metadata": {},
   "source": [
    "# Performance Measure of KNN"
   ]
  },
  {
   "cell_type": "code",
   "execution_count": 50,
   "id": "cd013f06",
   "metadata": {},
   "outputs": [
    {
     "name": "stdout",
     "output_type": "stream",
     "text": [
      "[[ 6827   161]\n",
      " [  168 68431]]\n",
      "              precision    recall  f1-score   support\n",
      "\n",
      "           0       0.98      0.98      0.98      6988\n",
      "           1       1.00      1.00      1.00     68599\n",
      "\n",
      "    accuracy                           1.00     75587\n",
      "   macro avg       0.99      0.99      0.99     75587\n",
      "weighted avg       1.00      1.00      1.00     75587\n",
      "\n"
     ]
    }
   ],
   "source": [
    "from sklearn.metrics import confusion_matrix\n",
    "from sklearn.metrics import classification_report\n",
    "\n",
    "y_pred = modelKNN.predict(x_test_smt)\n",
    "print(confusion_matrix(y_test_smt, y_pred))\n",
    "print(classification_report(y_test_smt, y_pred))"
   ]
  },
  {
   "cell_type": "code",
   "execution_count": 51,
   "id": "5ea9a90f",
   "metadata": {},
   "outputs": [
    {
     "name": "stdout",
     "output_type": "stream",
     "text": [
      "Sensitivity/TPR: 0.9975509847082319\n",
      "FPR: 0.023039496279336005\n",
      "Specificity/TNR: 0.976960503720664\n",
      "MCC: 0.9740734619648426\n",
      "Cohen Kappa: 0.9740733137607976\n"
     ]
    }
   ],
   "source": [
    "from sklearn.metrics import cohen_kappa_score\n",
    "cmKNN = confusion_matrix(y_test_smt, modelKNN.predict(x_test_smt))\n",
    "\n",
    "#If we use TP TN FP and FN of below's comment we get range\n",
    "#FP = cmSVC.sum(axis=0) - np.diag(cmSVC)  \n",
    "#FN = cmSVC.sum(axis=1) - np.diag(cmSVC)\n",
    "#TP = np.diag(cmSVC)\n",
    "#TN = cmSVC.sum() - (FP + FN + TP)\n",
    "\n",
    "TP = cmKNN[1,1]  \n",
    "TN = cmKNN[0,0] \n",
    "FP = cmKNN[0,1] \n",
    "FN = cmKNN[1,0] \n",
    "\n",
    "# Sensitivity, hit rate, recall, or true positive rate\n",
    "TPR = TP/float(TP+FN)\n",
    "# Specificity or true negative rate\n",
    "TNR = TN/float(TN+FP) \n",
    "# Precision or positive predictive value\n",
    "PPV = TP/float(TP+FP)\n",
    "# Negative predictive value\n",
    "NPV = TN/float(TN+FN)\n",
    "# Fall out or false positive rate\n",
    "FPR = FP/float(FP+TN)\n",
    "# False negative rate\n",
    "FNR = FN/float(TP+FN)\n",
    "# False discovery rate\n",
    "FDR = FP/float(TP+FP)\n",
    "# Accuracy\n",
    "totalKNN = sum(sum(cmKNN))\n",
    "Accuracy = (TN+TP)/totalKNN\n",
    "# MCC\n",
    "val = (TP * TN) - (FP * FN)\n",
    "MCC_KNN = val / np.sqrt((TP + FP) * (TP + FN) * (TN + FP) * (TN + FN))\n",
    "# Cohen Kappa\n",
    "Y_pred = modelKNN.predict(x_test_smt)\n",
    "cohen_score = cohen_kappa_score(y_test_smt, Y_pred)\n",
    "\n",
    "print(\"Sensitivity/TPR: \" + str(TPR))\n",
    "print(\"FPR: \" + str(FPR))\n",
    "print(\"Specificity/TNR: \" + str(TNR))\n",
    "print(\"MCC: \" + str(MCC_KNN))\n",
    "print(\"Cohen Kappa: \" + str(cohen_score))"
   ]
  },
  {
   "cell_type": "markdown",
   "id": "3a5cd08b",
   "metadata": {},
   "source": [
    "# AUC Score"
   ]
  },
  {
   "cell_type": "code",
   "execution_count": 52,
   "id": "671c1227",
   "metadata": {},
   "outputs": [
    {
     "name": "stdout",
     "output_type": "stream",
     "text": [
      "0.9980185005892696 0.9980185005892696\n"
     ]
    }
   ],
   "source": [
    "from sklearn.metrics import roc_auc_score\n",
    "\n",
    "# predict probabilities\n",
    "pred_prob1 = modelKNN.predict_proba(x_test_smt)\n",
    "pred_prob2 = modelKNN.predict_proba(x_test_smt)\n",
    "\n",
    "# auc scores\n",
    "auc_score1 = roc_auc_score(y_test_smt, pred_prob1[:,1])\n",
    "auc_score2 = roc_auc_score(y_test_smt, pred_prob2[:,1])\n",
    "\n",
    "print(auc_score1, auc_score2)"
   ]
  },
  {
   "cell_type": "markdown",
   "id": "a10437c6",
   "metadata": {},
   "source": [
    "# Stochastic Gradient Descent Train, Test"
   ]
  },
  {
   "cell_type": "code",
   "execution_count": 53,
   "id": "c112d9a9",
   "metadata": {},
   "outputs": [
    {
     "name": "stdout",
     "output_type": "stream",
     "text": [
      "0.913569793747602\n",
      "0.913569793747602\n"
     ]
    }
   ],
   "source": [
    "from sklearn.linear_model import SGDClassifier\n",
    "from sklearn.metrics import accuracy_score\n",
    "# loss = 'hinge'\n",
    "modelSGDC = SGDClassifier(loss = 'log', penalty = \"l1\", max_iter = 10)\n",
    "modelSGDC.fit(x_train_smt, y_train_smt)\n",
    "print(modelSGDC.score(x_test_smt, y_test_smt))\n",
    "\n",
    "# Predicting the Test set results\n",
    "y_pred = modelSGDC.predict(x_test_smt)\n",
    "ac = accuracy_score(y_test_smt, y_pred)\n",
    "print(ac)"
   ]
  },
  {
   "cell_type": "markdown",
   "id": "b7e39613",
   "metadata": {},
   "source": [
    "# Performance Measure of SGDC"
   ]
  },
  {
   "cell_type": "code",
   "execution_count": 54,
   "id": "bf37926f",
   "metadata": {},
   "outputs": [
    {
     "name": "stdout",
     "output_type": "stream",
     "text": [
      "[[ 2514  4474]\n",
      " [ 2059 66540]]\n",
      "              precision    recall  f1-score   support\n",
      "\n",
      "           0       0.55      0.36      0.43      6988\n",
      "           1       0.94      0.97      0.95     68599\n",
      "\n",
      "    accuracy                           0.91     75587\n",
      "   macro avg       0.74      0.66      0.69     75587\n",
      "weighted avg       0.90      0.91      0.91     75587\n",
      "\n"
     ]
    }
   ],
   "source": [
    "from sklearn.metrics import confusion_matrix\n",
    "from sklearn.metrics import classification_report\n",
    "\n",
    "y_pred = modelSGDC.predict(x_test_smt)\n",
    "print(confusion_matrix(y_test_smt, y_pred))\n",
    "print(classification_report(y_test_smt, y_pred))"
   ]
  },
  {
   "cell_type": "code",
   "execution_count": 55,
   "id": "8553f3ed",
   "metadata": {},
   "outputs": [
    {
     "name": "stdout",
     "output_type": "stream",
     "text": [
      "Sensitivity/TPR: 0.9699849852038659\n",
      "FPR: 0.6402404121350888\n",
      "Specificity/TNR: 0.3597595878649113\n",
      "MCC: 0.40062717868601333\n",
      "Cohen Kappa: 0.3903198410901543\n"
     ]
    }
   ],
   "source": [
    "from sklearn.metrics import cohen_kappa_score\n",
    "cmSGDC = confusion_matrix(y_test_smt, modelSGDC.predict(x_test_smt))\n",
    "\n",
    "#If we use TP TN FP and FN of below's comment we get range\n",
    "#FP = cmSVC.sum(axis=0) - np.diag(cmSVC)  \n",
    "#FN = cmSVC.sum(axis=1) - np.diag(cmSVC)\n",
    "#TP = np.diag(cmSVC)\n",
    "#TN = cmSVC.sum() - (FP + FN + TP)\n",
    "\n",
    "TP = cmSGDC[1,1]  \n",
    "TN = cmSGDC[0,0] \n",
    "FP = cmSGDC[0,1] \n",
    "FN = cmSGDC[1,0] \n",
    "\n",
    "# Sensitivity, hit rate, recall, or true positive rate\n",
    "TPR = TP/float(TP+FN)\n",
    "# Specificity or true negative rate\n",
    "TNR = TN/float(TN+FP) \n",
    "# Precision or positive predictive value\n",
    "PPV = TP/float(TP+FP)\n",
    "# Negative predictive value\n",
    "NPV = TN/float(TN+FN)\n",
    "# Fall out or false positive rate\n",
    "FPR = FP/float(FP+TN)\n",
    "# False negative rate\n",
    "FNR = FN/float(TP+FN)\n",
    "# False discovery rate\n",
    "FDR = FP/float(TP+FP)\n",
    "# Accuracy\n",
    "totalSGDC=sum(sum(cmSGDC))\n",
    "Accuracy = (TN+TP)/totalSGDC\n",
    "# MCC\n",
    "val = (TP * TN) - (FP * FN)\n",
    "MCC_SGDC = val / np.sqrt((TP + FP) * (TP + FN) * (TN + FP) * (TN + FN))\n",
    "# Cohen Kappa\n",
    "Y_pred = modelSGDC.predict(x_test_smt)\n",
    "cohen_score = cohen_kappa_score(y_test_smt, Y_pred)\n",
    "\n",
    "print(\"Sensitivity/TPR: \" + str(TPR))\n",
    "print(\"FPR: \" + str(FPR))\n",
    "print(\"Specificity/TNR: \" + str(TNR))\n",
    "print(\"MCC: \" + str(MCC_SGDC))\n",
    "print(\"Cohen Kappa: \" + str(cohen_score))"
   ]
  },
  {
   "cell_type": "markdown",
   "id": "4176f86c",
   "metadata": {},
   "source": [
    "# AUC Score"
   ]
  },
  {
   "cell_type": "code",
   "execution_count": 56,
   "id": "80dd63d9",
   "metadata": {},
   "outputs": [
    {
     "name": "stdout",
     "output_type": "stream",
     "text": [
      "0.6648722865343886 0.6648722865343886\n"
     ]
    }
   ],
   "source": [
    "from sklearn.metrics import roc_auc_score\n",
    "\n",
    "# predict probabilities\n",
    "pred_prob1 = modelSGDC.predict_proba(x_test_smt)\n",
    "pred_prob2 = modelSGDC.predict_proba(x_test_smt)\n",
    "\n",
    "# auc scores\n",
    "auc_score1 = roc_auc_score(y_test_smt, pred_prob1[:,1])\n",
    "auc_score2 = roc_auc_score(y_test_smt, pred_prob2[:,1])\n",
    "\n",
    "print(auc_score1, auc_score2)"
   ]
  },
  {
   "cell_type": "markdown",
   "id": "871b22d7",
   "metadata": {},
   "source": [
    "# AdaBoost Algorithm Train, Test "
   ]
  },
  {
   "cell_type": "code",
   "execution_count": 57,
   "id": "c612c893",
   "metadata": {},
   "outputs": [
    {
     "name": "stdout",
     "output_type": "stream",
     "text": [
      "0.9996427957188405\n",
      "0.9996427957188405\n"
     ]
    }
   ],
   "source": [
    "from sklearn.ensemble import AdaBoostClassifier\n",
    "from sklearn.metrics import accuracy_score\n",
    "\n",
    "modelABC = AdaBoostClassifier(random_state = 96)\n",
    "modelABC.fit(x_train_smt, y_train_smt)\n",
    "print(modelABC.score(x_test_smt, y_test_smt))\n",
    "\n",
    "# Predicting the Test set results\n",
    "y_pred = modelABC.predict(x_test_smt)\n",
    "ac = accuracy_score(y_test_smt, y_pred)\n",
    "print(ac)"
   ]
  },
  {
   "cell_type": "markdown",
   "id": "b1debaad",
   "metadata": {},
   "source": [
    "# Performance Measure of AdaBoost"
   ]
  },
  {
   "cell_type": "code",
   "execution_count": 58,
   "id": "9027513d",
   "metadata": {},
   "outputs": [
    {
     "name": "stdout",
     "output_type": "stream",
     "text": [
      "[[ 6973    15]\n",
      " [   12 68587]]\n",
      "              precision    recall  f1-score   support\n",
      "\n",
      "           0       1.00      1.00      1.00      6988\n",
      "           1       1.00      1.00      1.00     68599\n",
      "\n",
      "    accuracy                           1.00     75587\n",
      "   macro avg       1.00      1.00      1.00     75587\n",
      "weighted avg       1.00      1.00      1.00     75587\n",
      "\n"
     ]
    }
   ],
   "source": [
    "from sklearn.metrics import confusion_matrix\n",
    "from sklearn.metrics import classification_report\n",
    "\n",
    "y_pred = modelABC.predict(x_test_smt)\n",
    "print(confusion_matrix(y_test_smt, y_pred))\n",
    "print(classification_report(y_test_smt, y_pred))"
   ]
  },
  {
   "cell_type": "code",
   "execution_count": 59,
   "id": "86864bfc",
   "metadata": {},
   "outputs": [
    {
     "name": "stdout",
     "output_type": "stream",
     "text": [
      "Sensitivity/TPR: 0.9998250703363023\n",
      "FPR: 0.0021465369204350317\n",
      "Specificity/TNR: 0.997853463079565\n",
      "MCC: 0.9978709383601739\n",
      "Cohen Kappa: 0.9978709104381285\n"
     ]
    }
   ],
   "source": [
    "from sklearn.metrics import cohen_kappa_score\n",
    "cmABC = confusion_matrix(y_test_smt, modelABC.predict(x_test_smt))\n",
    "\n",
    "#If we use TP TN FP and FN of below's comment we get range\n",
    "#FP = cmSVC.sum(axis=0) - np.diag(cmSVC)  \n",
    "#FN = cmSVC.sum(axis=1) - np.diag(cmSVC)\n",
    "#TP = np.diag(cmSVC)\n",
    "#TN = cmSVC.sum() - (FP + FN + TP)\n",
    "\n",
    "TP = cmABC[1,1]  \n",
    "TN = cmABC[0,0] \n",
    "FP = cmABC[0,1] \n",
    "FN = cmABC[1,0] \n",
    "\n",
    "# Sensitivity, hit rate, recall, or true positive rate\n",
    "TPR = TP/float(TP+FN)\n",
    "# Specificity or true negative rate\n",
    "TNR = TN/float(TN+FP) \n",
    "# Precision or positive predictive value\n",
    "PPV = TP/float(TP+FP)\n",
    "# Negative predictive value\n",
    "NPV = TN/float(TN+FN)\n",
    "# Fall out or false positive rate\n",
    "FPR = FP/float(FP+TN)\n",
    "# False negative rate\n",
    "FNR = FN/float(TP+FN)\n",
    "# False discovery rate\n",
    "FDR = FP/float(TP+FP)\n",
    "# Accuracy\n",
    "totalABC = sum(sum(cmABC))\n",
    "Accuracy = (TN+TP)/totalABC\n",
    "\n",
    "# MCC\n",
    "val = (TP * TN) - (FP * FN)\n",
    "MCC_ABC = val / np.sqrt((TP + FP) * (TP + FN) * (TN + FP) * (TN + FN))\n",
    "\n",
    "# Cohen Kappa\n",
    "Y_pred = modelABC.predict(x_test_smt)\n",
    "cohen_score = cohen_kappa_score(y_test_smt, Y_pred)\n",
    "\n",
    "print(\"Sensitivity/TPR: \" + str(TPR))\n",
    "print(\"FPR: \" + str(FPR))\n",
    "print(\"Specificity/TNR: \" + str(TNR))\n",
    "print(\"MCC: \" + str(MCC_ABC))\n",
    "print(\"Cohen Kappa: \" + str(cohen_score))"
   ]
  },
  {
   "cell_type": "markdown",
   "id": "1e98d9c6",
   "metadata": {},
   "source": [
    "# AUC Score"
   ]
  },
  {
   "cell_type": "code",
   "execution_count": 60,
   "id": "5c3e1dbb",
   "metadata": {},
   "outputs": [
    {
     "name": "stdout",
     "output_type": "stream",
     "text": [
      "0.9999977428699661 0.9999977428699661\n"
     ]
    }
   ],
   "source": [
    "from sklearn.metrics import roc_auc_score\n",
    "\n",
    "# predict probabilities\n",
    "pred_prob1 = modelABC.predict_proba(x_test_smt)\n",
    "pred_prob2 = modelABC.predict_proba(x_test_smt)\n",
    "\n",
    "# auc scores\n",
    "auc_score1 = roc_auc_score(y_test_smt, pred_prob1[:,1])\n",
    "auc_score2 = roc_auc_score(y_test_smt, pred_prob2[:,1])\n",
    "\n",
    "print(auc_score1, auc_score2)"
   ]
  },
  {
   "cell_type": "markdown",
   "id": "98d3ee66",
   "metadata": {},
   "source": [
    "# AdaBoost Algorithm With K-Fold CV"
   ]
  },
  {
   "cell_type": "code",
   "execution_count": 61,
   "id": "9da98f01",
   "metadata": {},
   "outputs": [
    {
     "name": "stdout",
     "output_type": "stream",
     "text": [
      "[0.9999118  0.99947081 0.9997354  0.9997354  0.9997354  0.9998236\n",
      " 0.99947081 0.9997354  0.99955901 0.99938261]\n",
      "Accuracy mean and std : 1.000 (0.000)\n"
     ]
    }
   ],
   "source": [
    "from sklearn.model_selection import cross_val_score\n",
    "cv_score_for_ABC = cross_val_score(modelABC, x_train_smt, y_train_smt, cv = 10)\n",
    "print(cv_score_for_ABC)\n",
    "print('Accuracy mean and std : %.3f (%.3f)' % (mean(cv_score_for_ABC), std(cv_score_for_ABC)))"
   ]
  },
  {
   "cell_type": "markdown",
   "id": "85c6921e",
   "metadata": {},
   "source": [
    "# Gaussian Naive Bayes Train Test"
   ]
  },
  {
   "cell_type": "code",
   "execution_count": 62,
   "id": "ccb93870",
   "metadata": {},
   "outputs": [
    {
     "name": "stdout",
     "output_type": "stream",
     "text": [
      "0.9499118010231081\n",
      "0.9508645666582878\n"
     ]
    },
    {
     "data": {
      "text/plain": [
       "array([[ 6770,   218],\n",
       "       [ 3496, 65103]], dtype=int64)"
      ]
     },
     "execution_count": 62,
     "metadata": {},
     "output_type": "execute_result"
    }
   ],
   "source": [
    "# Training the Naive Bayes model on the Training set\n",
    "from sklearn.naive_bayes import GaussianNB\n",
    "from sklearn.metrics import accuracy_score\n",
    "\n",
    "modelGNB = GaussianNB()\n",
    "modelGNB.fit(x_train_smt, y_train_smt)\n",
    "print(modelGNB.score(x_train_smt, y_train_smt))\n",
    "# Predicting the Test set results\n",
    "y_pred = modelGNB.predict(x_test_smt)\n",
    "ac = accuracy_score(y_test_smt, y_pred)\n",
    "print(ac)\n",
    "cm = confusion_matrix(y_test_smt, y_pred)\n",
    "cm"
   ]
  },
  {
   "cell_type": "markdown",
   "id": "66cce9db",
   "metadata": {},
   "source": [
    "# Gaussian Naive Bayes Performance Measure"
   ]
  },
  {
   "cell_type": "code",
   "execution_count": 63,
   "id": "07501b1f",
   "metadata": {},
   "outputs": [
    {
     "name": "stdout",
     "output_type": "stream",
     "text": [
      "[[ 6770   218]\n",
      " [ 3496 65103]]\n",
      "              precision    recall  f1-score   support\n",
      "\n",
      "           0       0.66      0.97      0.78      6988\n",
      "           1       1.00      0.95      0.97     68599\n",
      "\n",
      "    accuracy                           0.95     75587\n",
      "   macro avg       0.83      0.96      0.88     75587\n",
      "weighted avg       0.97      0.95      0.95     75587\n",
      "\n"
     ]
    }
   ],
   "source": [
    "from sklearn.metrics import confusion_matrix\n",
    "from sklearn.metrics import classification_report\n",
    "\n",
    "y_pred = modelGNB.predict(x_test_smt)\n",
    "print(confusion_matrix(y_test_smt, y_pred))\n",
    "print(classification_report(y_test_smt, y_pred))"
   ]
  },
  {
   "cell_type": "code",
   "execution_count": 64,
   "id": "ff3571c9",
   "metadata": {},
   "outputs": [
    {
     "name": "stdout",
     "output_type": "stream",
     "text": [
      "Sensitivity/TPR: 0.9490371579760638\n",
      "FPR: 0.031196336576989125\n",
      "Specificity/TNR: 0.9688036634230108\n",
      "MCC: 0.776024919597257\n",
      "Cohen Kappa: 0.758137329695707\n"
     ]
    }
   ],
   "source": [
    "from sklearn.metrics import cohen_kappa_score\n",
    "cmGNB = confusion_matrix(y_test_smt, modelGNB.predict(x_test_smt))\n",
    "\n",
    "#If we use TP TN FP and FN of below's comment we get range\n",
    "#FP = cmSVC.sum(axis=0) - np.diag(cmSVC)  \n",
    "#FN = cmSVC.sum(axis=1) - np.diag(cmSVC)\n",
    "#TP = np.diag(cmSVC)\n",
    "#TN = cmSVC.sum() - (FP + FN + TP)\n",
    "\n",
    "TP = cmGNB[1,1]  \n",
    "TN = cmGNB[0,0] \n",
    "FP = cmGNB[0,1] \n",
    "FN = cmGNB[1,0] \n",
    "\n",
    "# Sensitivity, hit rate, recall, or true positive rate\n",
    "TPR = TP/float(TP+FN)\n",
    "# Specificity or true negative rate\n",
    "TNR = TN/float(TN+FP) \n",
    "# Precision or positive predictive value\n",
    "PPV = TP/float(TP+FP)\n",
    "# Negative predictive value\n",
    "NPV = TN/float(TN+FN)\n",
    "# Fall out or false positive rate\n",
    "FPR = FP/float(FP+TN)\n",
    "# False negative rate\n",
    "FNR = FN/float(TP+FN)\n",
    "# False discovery rate\n",
    "FDR = FP/float(TP+FP)\n",
    "# Accuracy\n",
    "totalGNB=sum(sum(cmGNB))\n",
    "Accuracy = (TN+TP)/totalGNB\n",
    "# MCC\n",
    "val = (TP * TN) - (FP * FN)\n",
    "MCC_GNB = val / np.sqrt((TP + FP) * (TP + FN) * (TN + FP) * (TN + FN))\n",
    "# Cohen Kappa\n",
    "Y_pred = modelGNB.predict(x_test_smt)\n",
    "cohen_score = cohen_kappa_score(y_test_smt, Y_pred)\n",
    "\n",
    "print(\"Sensitivity/TPR: \" + str(TPR))\n",
    "print(\"FPR: \" + str(FPR))\n",
    "print(\"Specificity/TNR: \" + str(TNR))\n",
    "print(\"MCC: \" + str(MCC_GNB))\n",
    "print(\"Cohen Kappa: \" + str(cohen_score))"
   ]
  },
  {
   "cell_type": "code",
   "execution_count": 65,
   "id": "6f76927f",
   "metadata": {},
   "outputs": [
    {
     "name": "stdout",
     "output_type": "stream",
     "text": [
      "[0.94778621 0.95122597 0.94946199 0.95007938 0.95201976 0.95281355\n",
      " 0.94858    0.95193156 0.94963838 0.94893279]\n",
      "Accuracy mean and std : 0.950 (0.002)\n"
     ]
    }
   ],
   "source": [
    "from sklearn.model_selection import cross_val_score\n",
    "cv_score_for_xgb= cross_val_score(modelGNB, x_train_smt, y_train_smt, cv = 10)\n",
    "print(cv_score_for_xgb)\n",
    "print('Accuracy mean and std : %.3f (%.3f)' % (mean(cv_score_for_xgb), std(cv_score_for_xgb)))"
   ]
  },
  {
   "cell_type": "code",
   "execution_count": null,
   "id": "5cbde003",
   "metadata": {},
   "outputs": [],
   "source": []
  },
  {
   "cell_type": "markdown",
   "id": "d87ef25a",
   "metadata": {},
   "source": [
    "# AUC Score"
   ]
  },
  {
   "cell_type": "code",
   "execution_count": 66,
   "id": "f53f11f5",
   "metadata": {},
   "outputs": [
    {
     "name": "stdout",
     "output_type": "stream",
     "text": [
      "0.9873454943383043 0.9873454943383043\n"
     ]
    }
   ],
   "source": [
    "from sklearn.metrics import roc_auc_score\n",
    "\n",
    "# predict probabilities\n",
    "pred_prob1 = modelGNB.predict_proba(x_test_smt)\n",
    "pred_prob2 = modelGNB.predict_proba(x_test_smt)\n",
    "\n",
    "# auc scores\n",
    "auc_score1 = roc_auc_score(y_test_smt, pred_prob1[:,1])\n",
    "auc_score2 = roc_auc_score(y_test_smt, pred_prob2[:,1])\n",
    "\n",
    "print(auc_score1, auc_score2)"
   ]
  },
  {
   "cell_type": "markdown",
   "id": "7e6cffe7",
   "metadata": {},
   "source": [
    "## XGBoost"
   ]
  },
  {
   "cell_type": "code",
   "execution_count": 67,
   "id": "332fd685",
   "metadata": {},
   "outputs": [
    {
     "name": "stdout",
     "output_type": "stream",
     "text": [
      "Training 1.0\n",
      "Testing 0.9999735404236179\n"
     ]
    },
    {
     "data": {
      "text/plain": [
       "array([[ 6987,     1],\n",
       "       [    1, 68598]], dtype=int64)"
      ]
     },
     "execution_count": 67,
     "metadata": {},
     "output_type": "execute_result"
    }
   ],
   "source": [
    "# Training the Naive Bayes model on the Training set\n",
    "import xgboost as xgb\n",
    "from sklearn.metrics import accuracy_score\n",
    "\n",
    "modelXGB = xgb.XGBClassifier()\n",
    "\n",
    "modelXGB.fit(x_train_smt, y_train_smt)\n",
    "print('Training',modelXGB.score(x_train_smt, y_train_smt))\n",
    "# Predicting the Test set results\n",
    "y_pred = modelXGB.predict(x_test_smt)\n",
    "ac = accuracy_score(y_test_smt, y_pred)\n",
    "print('Testing',ac)\n",
    "cm = confusion_matrix(y_test_smt, y_pred)\n",
    "cm"
   ]
  },
  {
   "cell_type": "code",
   "execution_count": 68,
   "id": "debf7835",
   "metadata": {},
   "outputs": [
    {
     "name": "stdout",
     "output_type": "stream",
     "text": [
      "[[ 6987     1]\n",
      " [    1 68598]]\n",
      "              precision    recall  f1-score   support\n",
      "\n",
      "           0       1.00      1.00      1.00      6988\n",
      "           1       1.00      1.00      1.00     68599\n",
      "\n",
      "    accuracy                           1.00     75587\n",
      "   macro avg       1.00      1.00      1.00     75587\n",
      "weighted avg       1.00      1.00      1.00     75587\n",
      "\n"
     ]
    }
   ],
   "source": [
    "from sklearn.metrics import confusion_matrix\n",
    "from sklearn.metrics import classification_report\n",
    "\n",
    "y_pred = modelXGB.predict(x_test_smt)\n",
    "print(confusion_matrix(y_test_smt, y_pred))\n",
    "print(classification_report(y_test_smt, y_pred))"
   ]
  },
  {
   "cell_type": "code",
   "execution_count": 69,
   "id": "079ace28",
   "metadata": {},
   "outputs": [
    {
     "name": "stdout",
     "output_type": "stream",
     "text": [
      "Sensitivity/TPR: 0.9999854225280251\n",
      "FPR: 0.00014310246136233542\n",
      "Specificity/TNR: 0.9998568975386377\n",
      "MCC: 0.9998423200666628\n",
      "Cohen Kappa: 0.9998423200666628\n"
     ]
    }
   ],
   "source": [
    "from sklearn.metrics import cohen_kappa_score\n",
    "cmGNB = confusion_matrix(y_test_smt, modelXGB.predict(x_test_smt))\n",
    "\n",
    "#If we use TP TN FP and FN of below's comment we get range\n",
    "#FP = cmSVC.sum(axis=0) - np.diag(cmSVC)  \n",
    "#FN = cmSVC.sum(axis=1) - np.diag(cmSVC)\n",
    "#TP = np.diag(cmSVC)\n",
    "#TN = cmSVC.sum() - (FP + FN + TP)\n",
    "\n",
    "TP = cmGNB[1,1]  \n",
    "TN = cmGNB[0,0] \n",
    "FP = cmGNB[0,1] \n",
    "FN = cmGNB[1,0] \n",
    "\n",
    "# Sensitivity, hit rate, recall, or true positive rate\n",
    "TPR = TP/float(TP+FN)\n",
    "# Specificity or true negative rate\n",
    "TNR = TN/float(TN+FP) \n",
    "# Precision or positive predictive value\n",
    "PPV = TP/float(TP+FP)\n",
    "# Negative predictive value\n",
    "NPV = TN/float(TN+FN)\n",
    "# Fall out or false positive rate\n",
    "FPR = FP/float(FP+TN)\n",
    "# False negative rate\n",
    "FNR = FN/float(TP+FN)\n",
    "# False discovery rate\n",
    "FDR = FP/float(TP+FP)\n",
    "# Accuracy\n",
    "totalGNB=sum(sum(cmGNB))\n",
    "Accuracy = (TN+TP)/totalGNB\n",
    "# MCC\n",
    "val = (TP * TN) - (FP * FN)\n",
    "MCC_GNB = val / np.sqrt((TP + FP) * (TP + FN) * (TN + FP) * (TN + FN))\n",
    "# Cohen Kappa\n",
    "Y_pred = modelXGB.predict(x_test_smt)\n",
    "cohen_score = cohen_kappa_score(y_test_smt, Y_pred)\n",
    "\n",
    "print(\"Sensitivity/TPR: \" + str(TPR))\n",
    "print(\"FPR: \" + str(FPR))\n",
    "print(\"Specificity/TNR: \" + str(TNR))\n",
    "print(\"MCC: \" + str(MCC_GNB))\n",
    "print(\"Cohen Kappa: \" + str(cohen_score))"
   ]
  },
  {
   "cell_type": "code",
   "execution_count": null,
   "id": "8cf2821e",
   "metadata": {},
   "outputs": [],
   "source": []
  },
  {
   "cell_type": "code",
   "execution_count": 70,
   "id": "5a34b776",
   "metadata": {},
   "outputs": [
    {
     "name": "stdout",
     "output_type": "stream",
     "text": [
      "0.9999997601017062 0.9999997601017062\n"
     ]
    }
   ],
   "source": [
    "from sklearn.metrics import roc_auc_score\n",
    "\n",
    "# predict probabilities\n",
    "pred_prob1 = modelXGB.predict_proba(x_test_smt)\n",
    "pred_prob2 = modelXGB.predict_proba(x_test_smt)\n",
    "\n",
    "# auc scores\n",
    "auc_score1 = roc_auc_score(y_test_smt, pred_prob1[:,1])\n",
    "auc_score2 = roc_auc_score(y_test_smt, pred_prob2[:,1])\n",
    "\n",
    "print(auc_score1, auc_score2)"
   ]
  }
 ],
 "metadata": {
  "kernelspec": {
   "display_name": "Python 3 (ipykernel)",
   "language": "python",
   "name": "python3"
  },
  "language_info": {
   "codemirror_mode": {
    "name": "ipython",
    "version": 3
   },
   "file_extension": ".py",
   "mimetype": "text/x-python",
   "name": "python",
   "nbconvert_exporter": "python",
   "pygments_lexer": "ipython3",
   "version": "3.11.4"
  }
 },
 "nbformat": 4,
 "nbformat_minor": 5
}
