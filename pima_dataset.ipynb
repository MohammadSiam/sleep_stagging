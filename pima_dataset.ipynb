{
 "cells": [
  {
   "cell_type": "code",
   "execution_count": 2,
   "id": "29659cde",
   "metadata": {},
   "outputs": [],
   "source": [
    "import numpy as np\n",
    "import pandas as pd\n",
    "from numpy import loadtxt\n",
    "from tensorflow.keras.models import Sequential \n",
    "from tensorflow.keras.layers import BatchNormalization , Conv2D,Flatten,Dense"
   ]
  },
  {
   "cell_type": "code",
   "execution_count": 5,
   "id": "0692b939",
   "metadata": {},
   "outputs": [],
   "source": [
    "dataset=loadtxt('G:/pima-indians-diabetes.csv',delimiter=\",\")"
   ]
  },
  {
   "cell_type": "code",
   "execution_count": 59,
   "id": "9a891439",
   "metadata": {},
   "outputs": [],
   "source": [
    "X=dataset[:,0:8]\n",
    "y=dataset[:,8]"
   ]
  },
  {
   "cell_type": "code",
   "execution_count": 57,
   "id": "6066a0d2",
   "metadata": {},
   "outputs": [
    {
     "data": {
      "text/plain": [
       "(768, 8)"
      ]
     },
     "execution_count": 57,
     "metadata": {},
     "output_type": "execute_result"
    }
   ],
   "source": [
    "X.shape"
   ]
  },
  {
   "cell_type": "code",
   "execution_count": 60,
   "id": "9bcd7ce1",
   "metadata": {
    "scrolled": true
   },
   "outputs": [
    {
     "data": {
      "text/plain": [
       "array([1., 0., 1., 0., 1., 0., 1., 0., 1., 1., 0., 1., 0., 1., 1., 1., 1.,\n",
       "       1., 0., 1., 0., 0., 1., 1., 1., 1., 1., 0., 0., 0., 0., 1., 0., 0.,\n",
       "       0., 0., 0., 1., 1., 1., 0., 0., 0., 1., 0., 1., 0., 0., 1., 0., 0.,\n",
       "       0., 0., 1., 0., 0., 1., 0., 0., 0., 0., 1., 0., 0., 1., 0., 1., 0.,\n",
       "       0., 0., 1., 0., 1., 0., 0., 0., 0., 0., 1., 0., 0., 0., 0., 0., 1.,\n",
       "       0., 0., 0., 1., 0., 0., 0., 0., 1., 0., 0., 0., 0., 0., 1., 1., 0.,\n",
       "       0., 0., 0., 0., 0., 0., 0., 1., 1., 1., 0., 0., 1., 1., 1., 0., 0.,\n",
       "       0., 1., 0., 0., 0., 1., 1., 0., 0., 1., 1., 1., 1., 1., 0., 0., 0.,\n",
       "       0., 0., 0., 0., 0., 0., 0., 1., 0., 0., 0., 0., 0., 0., 0., 0., 1.,\n",
       "       0., 1., 1., 0., 0., 0., 1., 0., 0., 0., 0., 1., 1., 0., 0., 0., 0.,\n",
       "       1., 1., 0., 0., 0., 1., 0., 1., 0., 1., 0., 0., 0., 0., 0., 1., 1.,\n",
       "       1., 1., 1., 0., 0., 1., 1., 0., 1., 0., 1., 1., 1., 0., 0., 0., 0.,\n",
       "       0., 0., 1., 1., 0., 1., 0., 0., 0., 1., 1., 1., 1., 0., 1., 1., 1.,\n",
       "       1., 0., 0., 0., 0., 0., 1., 0., 0., 1., 1., 0., 0., 0., 1., 1., 1.,\n",
       "       1., 0., 0., 0., 1., 1., 0., 1., 0., 0., 0., 0., 0., 0., 0., 0., 1.,\n",
       "       1., 0., 0., 0., 1., 0., 1., 0., 0., 1., 0., 1., 0., 0., 1., 1., 0.,\n",
       "       0., 0., 0., 0., 1., 0., 0., 0., 1., 0., 0., 1., 1., 0., 0., 1., 0.,\n",
       "       0., 0., 1., 1., 1., 0., 0., 1., 0., 1., 0., 1., 1., 0., 1., 0., 0.,\n",
       "       1., 0., 1., 1., 0., 0., 1., 0., 1., 0., 0., 1., 0., 1., 0., 1., 1.,\n",
       "       1., 0., 0., 1., 0., 1., 0., 0., 0., 1., 0., 0., 0., 0., 1., 1., 1.,\n",
       "       0., 0., 0., 0., 0., 0., 0., 0., 0., 1., 0., 0., 0., 0., 0., 1., 1.,\n",
       "       1., 0., 1., 1., 0., 0., 1., 0., 0., 1., 0., 0., 1., 1., 0., 0., 0.,\n",
       "       0., 1., 0., 0., 1., 0., 0., 0., 0., 0., 0., 0., 1., 1., 1., 0., 0.,\n",
       "       1., 0., 0., 1., 0., 0., 1., 0., 1., 1., 0., 1., 0., 1., 0., 1., 0.,\n",
       "       1., 1., 0., 0., 0., 0., 1., 1., 0., 1., 0., 1., 0., 0., 0., 0., 1.,\n",
       "       1., 0., 1., 0., 1., 0., 0., 0., 0., 0., 1., 0., 0., 0., 0., 1., 0.,\n",
       "       0., 1., 1., 1., 0., 0., 1., 0., 0., 1., 0., 0., 0., 1., 0., 0., 1.,\n",
       "       0., 0., 0., 0., 0., 0., 0., 0., 0., 1., 0., 0., 0., 0., 0., 0., 0.,\n",
       "       1., 0., 0., 0., 1., 0., 0., 0., 1., 1., 0., 0., 0., 0., 0., 0., 0.,\n",
       "       1., 0., 0., 0., 0., 1., 0., 0., 0., 1., 0., 0., 0., 1., 0., 0., 0.,\n",
       "       1., 0., 0., 0., 0., 1., 1., 0., 0., 0., 0., 0., 0., 1., 0., 0., 0.,\n",
       "       0., 0., 0., 0., 0., 0., 0., 0., 1., 0., 0., 0., 1., 1., 1., 1., 0.,\n",
       "       0., 1., 1., 0., 0., 0., 0., 0., 0., 0., 0., 0., 0., 0., 0., 0., 1.,\n",
       "       1., 0., 0., 0., 0., 0., 0., 0., 1., 0., 0., 0., 0., 0., 0., 0., 1.,\n",
       "       0., 1., 1., 0., 0., 0., 1., 0., 1., 0., 1., 0., 1., 0., 1., 0., 0.,\n",
       "       1., 0., 0., 1., 0., 0., 0., 0., 1., 1., 0., 1., 0., 0., 0., 0., 1.,\n",
       "       1., 0., 1., 0., 0., 0., 1., 1., 0., 0., 0., 0., 0., 0., 0., 0., 0.,\n",
       "       0., 1., 0., 0., 0., 0., 1., 0., 0., 1., 0., 0., 0., 1., 0., 0., 0.,\n",
       "       1., 1., 1., 0., 0., 0., 0., 0., 0., 1., 0., 0., 0., 1., 0., 1., 1.,\n",
       "       1., 1., 0., 1., 1., 0., 0., 0., 0., 0., 0., 0., 1., 1., 0., 1., 0.,\n",
       "       0., 1., 0., 1., 0., 0., 0., 0., 0., 1., 0., 1., 0., 1., 0., 1., 1.,\n",
       "       0., 0., 0., 0., 1., 1., 0., 0., 0., 1., 0., 1., 1., 0., 0., 1., 0.,\n",
       "       0., 1., 1., 0., 0., 1., 0., 0., 1., 0., 0., 0., 0., 0., 0., 0., 1.,\n",
       "       1., 1., 0., 0., 0., 0., 0., 0., 1., 1., 0., 0., 1., 0., 0., 1., 0.,\n",
       "       1., 1., 1., 0., 0., 1., 1., 1., 0., 1., 0., 1., 0., 1., 0., 0., 0.,\n",
       "       0., 1., 0.])"
      ]
     },
     "execution_count": 60,
     "metadata": {},
     "output_type": "execute_result"
    }
   ],
   "source": [
    "y"
   ]
  },
  {
   "cell_type": "code",
   "execution_count": 53,
   "id": "641be1d7",
   "metadata": {},
   "outputs": [],
   "source": [
    "tmp=np.array(X)\n",
    "tmp=tmp.reshape(-1,2,4)\n",
    "X=pd.DataFrame(sum(map(list,tmp),[]))\n",
    "tmp=[]\n",
    "for i , g in X.groupby(np.arange(len(X))//2):\n",
    "    tmp.append(g)\n",
    "    \n",
    "tmp=np.array([i.to_numpy() for i in tmp])\n",
    "X=tmp.reshape(768,2,4,1)"
   ]
  },
  {
   "cell_type": "code",
   "execution_count": 54,
   "id": "58494cba",
   "metadata": {
    "scrolled": true
   },
   "outputs": [
    {
     "data": {
      "text/plain": [
       "(768, 2, 4, 1)"
      ]
     },
     "execution_count": 54,
     "metadata": {},
     "output_type": "execute_result"
    }
   ],
   "source": [
    "X.shape"
   ]
  },
  {
   "cell_type": "code",
   "execution_count": 42,
   "id": "53bbde41",
   "metadata": {},
   "outputs": [],
   "source": [
    "model=Sequential()\n",
    "model.add(Conv2D(1,activation=\"relu\",kernel_size=2,input_shape=(2,4,1)))\n",
    "model.add(BatchNormalization())\n",
    "model.add(Flatten())\n",
    "model.add(BatchNormalization())\n",
    "model.add(Dense(1,input_shape=(2,4,1),activation=\"sigmoid\"))"
   ]
  },
  {
   "cell_type": "code",
   "execution_count": 43,
   "id": "e2883d5d",
   "metadata": {},
   "outputs": [],
   "source": [
    "model.compile(loss=\"binary_crossentropy\",optimizer=\"adam\",metrics=[\"accuracy\"])"
   ]
  },
  {
   "cell_type": "code",
   "execution_count": 46,
   "id": "48c4c39c",
   "metadata": {},
   "outputs": [
    {
     "name": "stdout",
     "output_type": "stream",
     "text": [
      "Epoch 1/40\n",
      "96/96 [==============================] - 0s 3ms/step - loss: 0.5615 - accuracy: 0.7201\n",
      "Epoch 2/40\n",
      "96/96 [==============================] - 0s 3ms/step - loss: 0.5515 - accuracy: 0.7331\n",
      "Epoch 3/40\n",
      "96/96 [==============================] - 0s 3ms/step - loss: 0.5531 - accuracy: 0.7253\n",
      "Epoch 4/40\n",
      "96/96 [==============================] - 0s 5ms/step - loss: 0.5623 - accuracy: 0.7070\n",
      "Epoch 5/40\n",
      "96/96 [==============================] - 0s 3ms/step - loss: 0.5607 - accuracy: 0.7201\n",
      "Epoch 6/40\n",
      "96/96 [==============================] - 0s 3ms/step - loss: 0.5593 - accuracy: 0.7148\n",
      "Epoch 7/40\n",
      "96/96 [==============================] - 0s 3ms/step - loss: 0.5659 - accuracy: 0.7070\n",
      "Epoch 8/40\n",
      "96/96 [==============================] - 0s 3ms/step - loss: 0.5583 - accuracy: 0.7214\n",
      "Epoch 9/40\n",
      "96/96 [==============================] - 0s 3ms/step - loss: 0.5575 - accuracy: 0.7305\n",
      "Epoch 10/40\n",
      "96/96 [==============================] - 0s 5ms/step - loss: 0.5623 - accuracy: 0.7240\n",
      "Epoch 11/40\n",
      "96/96 [==============================] - 0s 3ms/step - loss: 0.5586 - accuracy: 0.7318\n",
      "Epoch 12/40\n",
      "96/96 [==============================] - 0s 3ms/step - loss: 0.5601 - accuracy: 0.7161\n",
      "Epoch 13/40\n",
      "96/96 [==============================] - 0s 3ms/step - loss: 0.5540 - accuracy: 0.7344\n",
      "Epoch 14/40\n",
      "96/96 [==============================] - 0s 4ms/step - loss: 0.5557 - accuracy: 0.7370\n",
      "Epoch 15/40\n",
      "96/96 [==============================] - 0s 3ms/step - loss: 0.5565 - accuracy: 0.7201\n",
      "Epoch 16/40\n",
      "96/96 [==============================] - 0s 5ms/step - loss: 0.5549 - accuracy: 0.7188\n",
      "Epoch 17/40\n",
      "96/96 [==============================] - 0s 3ms/step - loss: 0.5676 - accuracy: 0.7148\n",
      "Epoch 18/40\n",
      "96/96 [==============================] - 0s 3ms/step - loss: 0.5614 - accuracy: 0.7018\n",
      "Epoch 19/40\n",
      "96/96 [==============================] - 0s 3ms/step - loss: 0.5547 - accuracy: 0.7227\n",
      "Epoch 20/40\n",
      "96/96 [==============================] - 0s 3ms/step - loss: 0.5546 - accuracy: 0.7253\n",
      "Epoch 21/40\n",
      "96/96 [==============================] - 0s 4ms/step - loss: 0.5415 - accuracy: 0.7396\n",
      "Epoch 22/40\n",
      "96/96 [==============================] - 0s 3ms/step - loss: 0.5457 - accuracy: 0.7305\n",
      "Epoch 23/40\n",
      "96/96 [==============================] - 0s 4ms/step - loss: 0.5480 - accuracy: 0.7344\n",
      "Epoch 24/40\n",
      "96/96 [==============================] - 0s 3ms/step - loss: 0.5399 - accuracy: 0.7552\n",
      "Epoch 25/40\n",
      "96/96 [==============================] - 0s 4ms/step - loss: 0.5513 - accuracy: 0.7148\n",
      "Epoch 26/40\n",
      "96/96 [==============================] - 0s 3ms/step - loss: 0.5486 - accuracy: 0.7214\n",
      "Epoch 27/40\n",
      "96/96 [==============================] - 0s 3ms/step - loss: 0.5474 - accuracy: 0.7383\n",
      "Epoch 28/40\n",
      "96/96 [==============================] - 0s 4ms/step - loss: 0.5487 - accuracy: 0.7201\n",
      "Epoch 29/40\n",
      "96/96 [==============================] - 0s 4ms/step - loss: 0.5468 - accuracy: 0.7279\n",
      "Epoch 30/40\n",
      "96/96 [==============================] - 0s 4ms/step - loss: 0.5557 - accuracy: 0.7201\n",
      "Epoch 31/40\n",
      "96/96 [==============================] - 0s 4ms/step - loss: 0.5465 - accuracy: 0.7370\n",
      "Epoch 32/40\n",
      "96/96 [==============================] - 0s 3ms/step - loss: 0.5366 - accuracy: 0.7474\n",
      "Epoch 33/40\n",
      "96/96 [==============================] - 0s 4ms/step - loss: 0.5452 - accuracy: 0.7253\n",
      "Epoch 34/40\n",
      "96/96 [==============================] - 0s 5ms/step - loss: 0.5455 - accuracy: 0.7227\n",
      "Epoch 35/40\n",
      "96/96 [==============================] - 0s 3ms/step - loss: 0.5452 - accuracy: 0.7331\n",
      "Epoch 36/40\n",
      "96/96 [==============================] - 0s 3ms/step - loss: 0.5548 - accuracy: 0.7357\n",
      "Epoch 37/40\n",
      "96/96 [==============================] - 0s 3ms/step - loss: 0.5502 - accuracy: 0.7279\n",
      "Epoch 38/40\n",
      "96/96 [==============================] - 0s 4ms/step - loss: 0.5393 - accuracy: 0.7279\n",
      "Epoch 39/40\n",
      "96/96 [==============================] - 0s 5ms/step - loss: 0.5267 - accuracy: 0.7474\n",
      "Epoch 40/40\n",
      "96/96 [==============================] - 0s 3ms/step - loss: 0.5327 - accuracy: 0.7331\n"
     ]
    },
    {
     "data": {
      "text/plain": [
       "<keras.callbacks.History at 0x1b9f36730d0>"
      ]
     },
     "execution_count": 46,
     "metadata": {},
     "output_type": "execute_result"
    }
   ],
   "source": [
    "model.fit(X,y,epochs=40,batch_size=8)"
   ]
  },
  {
   "cell_type": "code",
   "execution_count": 47,
   "id": "e471b71f",
   "metadata": {},
   "outputs": [
    {
     "name": "stdout",
     "output_type": "stream",
     "text": [
      "24/24 [==============================] - 0s 2ms/step - loss: 0.5441 - accuracy: 0.7422\n",
      "accuracy: 74.21875\n"
     ]
    }
   ],
   "source": [
    "_,accuracy=model.evaluate(X,y)\n",
    "print(\"accuracy:\",(accuracy*100))"
   ]
  },
  {
   "cell_type": "code",
   "execution_count": null,
   "id": "87aa781f",
   "metadata": {},
   "outputs": [],
   "source": []
  },
  {
   "cell_type": "code",
   "execution_count": null,
   "id": "692a0aec",
   "metadata": {},
   "outputs": [],
   "source": []
  }
 ],
 "metadata": {
  "kernelspec": {
   "display_name": "Python 3 (ipykernel)",
   "language": "python",
   "name": "python3"
  },
  "language_info": {
   "codemirror_mode": {
    "name": "ipython",
    "version": 3
   },
   "file_extension": ".py",
   "mimetype": "text/x-python",
   "name": "python",
   "nbconvert_exporter": "python",
   "pygments_lexer": "ipython3",
   "version": "3.9.13"
  }
 },
 "nbformat": 4,
 "nbformat_minor": 5
}
