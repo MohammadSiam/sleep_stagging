{
 "cells": [
  {
   "cell_type": "code",
   "execution_count": 14,
   "id": "860bb9e8",
   "metadata": {},
   "outputs": [
    {
     "name": "stdout",
     "output_type": "stream",
     "text": [
      "n1 ['n2', 'n3', 'n5', 'n6', 'n7', 'n9', 'n10', 'n11', 'n13']\n",
      "n2 ['n3', 'n5', 'n6', 'n7', 'n9', 'n10', 'n11', 'n13', 'n1']\n",
      "n3 ['n5', 'n6', 'n7', 'n9', 'n10', 'n11', 'n13', 'n1', 'n2']\n",
      "n5 ['n6', 'n7', 'n9', 'n10', 'n11', 'n13', 'n1', 'n2', 'n3']\n",
      "n6 ['n7', 'n9', 'n10', 'n11', 'n13', 'n1', 'n2', 'n3', 'n5']\n",
      "n7 ['n9', 'n10', 'n11', 'n13', 'n1', 'n2', 'n3', 'n5', 'n6']\n",
      "n9 ['n10', 'n11', 'n13', 'n1', 'n2', 'n3', 'n5', 'n6', 'n7']\n",
      "n10 ['n11', 'n13', 'n1', 'n2', 'n3', 'n5', 'n6', 'n7', 'n9']\n",
      "n11 ['n13', 'n1', 'n2', 'n3', 'n5', 'n6', 'n7', 'n9', 'n10']\n",
      "n13 ['n1', 'n2', 'n3', 'n5', 'n6', 'n7', 'n9', 'n10', 'n11']\n"
     ]
    }
   ],
   "source": [
    "names = [\"n1\", \"n2\", \"n3\", \"n5\", \"n6\", \"n7\", \"n9\", \"n10\", \"n11\", \"n13\"]\n",
    "\n",
    "first_var=[]\n",
    "second_var=[]\n",
    "for i in range(len(names)):\n",
    "    first_var = names[i]\n",
    "    second_var = names[i+1:] +names[:i]\n",
    "    print(first_var, second_var)"
   ]
  },
  {
   "cell_type": "code",
   "execution_count": 11,
   "id": "722672f1",
   "metadata": {},
   "outputs": [
    {
     "name": "stdout",
     "output_type": "stream",
     "text": [
      "<class 'str'>\n"
     ]
    }
   ],
   "source": [
    "print(type(first_var))"
   ]
  },
  {
   "cell_type": "code",
   "execution_count": null,
   "id": "12953320",
   "metadata": {},
   "outputs": [],
   "source": [
    "data_array = None\n",
    "\n",
    "def read_csv_by_name(directory, names):\n",
    "    global data_array\n",
    "    \n",
    "    for name in names:\n",
    "        file_name = name + \".csv\"\n",
    "        file_path = os.path.join(directory, file_name)\n",
    "        \n",
    "        if os.path.isfile(file_path):\n",
    "            try:\n",
    "                df = pd.read_csv(file_path, header=None)\n",
    "                \n",
    "                if data_array is None:\n",
    "                    data_array = df\n",
    "                else:\n",
    "                    data_array = pd.concat([data_array, df], ignore_index=True)  # Append the DataFrame to the existing data_array\n",
    "                print(f\"File: {file_name}\")\n",
    "                print(df)\n",
    "            except pd.errors.EmptyDataError:\n",
    "                print(f\"Empty file: {file_name}\")\n",
    "        else:\n",
    "            print(f\"File not found: {file_name}\")\n",
    "    \n",
    "    return data_array"
   ]
  },
  {
   "cell_type": "code",
   "execution_count": null,
   "id": "d09f3d32",
   "metadata": {},
   "outputs": [],
   "source": [
    "directory = \"G:/cap-sleep-database-1.0.0/cap-sleep-database-1.0.0/np_data_64\"\n",
    "names = [\"n1\", \"n2\",\"n3\", \"n5\",\"n6\", \"n7\",\"n9\", \"n10\",\"n11\", \"n13\"]\n",
    "\n",
    "data = read_csv_by_name(directory, names)\n",
    "\n",
    "print(data_array)"
   ]
  },
  {
   "cell_type": "code",
   "execution_count": null,
   "id": "8b7fcd40",
   "metadata": {},
   "outputs": [],
   "source": [
    "split_index = int(len(data_array) * 0.8)\n",
    "train, test = np.split(data_array, [split_index])\n",
    "\n",
    "# Print the lengths of the two parts\n",
    "print(f\"Length of train: {len(train)}\")\n",
    "print(f\"Length of test: {len(test)}\")"
   ]
  },
  {
   "cell_type": "code",
   "execution_count": 1,
   "id": "7ccc9947",
   "metadata": {},
   "outputs": [
    {
     "name": "stdout",
     "output_type": "stream",
     "text": [
      "Keys: <KeysViewHDF5 ['model_weights', 'optimizer_weights']>\n",
      "<class 'h5py._hl.group.Group'>\n"
     ]
    },
    {
     "ename": "TypeError",
     "evalue": "Accessing a group is done with bytes or str,  not <class 'tuple'>",
     "output_type": "error",
     "traceback": [
      "\u001b[1;31m---------------------------------------------------------------------------\u001b[0m",
      "\u001b[1;31mTypeError\u001b[0m                                 Traceback (most recent call last)",
      "\u001b[1;32m~\\AppData\\Local\\Temp\\ipykernel_20688\\4124144165.py\u001b[0m in \u001b[0;36m<module>\u001b[1;34m\u001b[0m\n\u001b[0;32m     21\u001b[0m     \u001b[1;31m# preferred methods to get dataset values:\u001b[0m\u001b[1;33m\u001b[0m\u001b[1;33m\u001b[0m\u001b[0m\n\u001b[0;32m     22\u001b[0m     \u001b[0mds_obj\u001b[0m \u001b[1;33m=\u001b[0m \u001b[0mf\u001b[0m\u001b[1;33m[\u001b[0m\u001b[0ma_group_key\u001b[0m\u001b[1;33m]\u001b[0m      \u001b[1;31m# returns as a h5py dataset object\u001b[0m\u001b[1;33m\u001b[0m\u001b[1;33m\u001b[0m\u001b[0m\n\u001b[1;32m---> 23\u001b[1;33m     \u001b[0mds_arr\u001b[0m \u001b[1;33m=\u001b[0m \u001b[0mf\u001b[0m\u001b[1;33m[\u001b[0m\u001b[0ma_group_key\u001b[0m\u001b[1;33m]\u001b[0m\u001b[1;33m[\u001b[0m\u001b[1;33m(\u001b[0m\u001b[1;33m)\u001b[0m\u001b[1;33m]\u001b[0m  \u001b[1;31m# returns as a numpy array\u001b[0m\u001b[1;33m\u001b[0m\u001b[1;33m\u001b[0m\u001b[0m\n\u001b[0m",
      "\u001b[1;32mh5py\\_objects.pyx\u001b[0m in \u001b[0;36mh5py._objects.with_phil.wrapper\u001b[1;34m()\u001b[0m\n",
      "\u001b[1;32mh5py\\_objects.pyx\u001b[0m in \u001b[0;36mh5py._objects.with_phil.wrapper\u001b[1;34m()\u001b[0m\n",
      "\u001b[1;32m~\\anaconda3\\lib\\site-packages\\h5py\\_hl\\group.py\u001b[0m in \u001b[0;36m__getitem__\u001b[1;34m(self, name)\u001b[0m\n\u001b[0;32m    328\u001b[0m             \u001b[0moid\u001b[0m \u001b[1;33m=\u001b[0m \u001b[0mh5o\u001b[0m\u001b[1;33m.\u001b[0m\u001b[0mopen\u001b[0m\u001b[1;33m(\u001b[0m\u001b[0mself\u001b[0m\u001b[1;33m.\u001b[0m\u001b[0mid\u001b[0m\u001b[1;33m,\u001b[0m \u001b[0mself\u001b[0m\u001b[1;33m.\u001b[0m\u001b[0m_e\u001b[0m\u001b[1;33m(\u001b[0m\u001b[0mname\u001b[0m\u001b[1;33m)\u001b[0m\u001b[1;33m,\u001b[0m \u001b[0mlapl\u001b[0m\u001b[1;33m=\u001b[0m\u001b[0mself\u001b[0m\u001b[1;33m.\u001b[0m\u001b[0m_lapl\u001b[0m\u001b[1;33m)\u001b[0m\u001b[1;33m\u001b[0m\u001b[1;33m\u001b[0m\u001b[0m\n\u001b[0;32m    329\u001b[0m         \u001b[1;32melse\u001b[0m\u001b[1;33m:\u001b[0m\u001b[1;33m\u001b[0m\u001b[1;33m\u001b[0m\u001b[0m\n\u001b[1;32m--> 330\u001b[1;33m             raise TypeError(\"Accessing a group is done with bytes or str, \"\n\u001b[0m\u001b[0;32m    331\u001b[0m                             \" not {}\".format(type(name)))\n\u001b[0;32m    332\u001b[0m \u001b[1;33m\u001b[0m\u001b[0m\n",
      "\u001b[1;31mTypeError\u001b[0m: Accessing a group is done with bytes or str,  not <class 'tuple'>"
     ]
    }
   ],
   "source": [
    "import h5py\n",
    "filename = \"vgg16_1.h5\"\n",
    "\n",
    "with h5py.File(filename, \"r\") as f:\n",
    "    # Print all root level object names (aka keys) \n",
    "    # these can be group or dataset names \n",
    "    print(\"Keys: %s\" % f.keys())\n",
    "    # get first object name/key; may or may NOT be a group\n",
    "    a_group_key = list(f.keys())[0]\n",
    "\n",
    "    # get the object type for a_group_key: usually group or dataset\n",
    "    print(type(f[a_group_key])) \n",
    "\n",
    "    # If a_group_key is a group name, \n",
    "    # this gets the object names in the group and returns as a list\n",
    "    data = list(f[a_group_key])\n",
    "\n",
    "    # If a_group_key is a dataset name, \n",
    "    # this gets the dataset values and returns as a list\n",
    "    data = list(f[a_group_key])\n",
    "    # preferred methods to get dataset values:\n",
    "    ds_obj = f[a_group_key]      # returns as a h5py dataset object\n",
    "    ds_arr = f[a_group_key][()]  # returns as a numpy array"
   ]
  },
  {
   "cell_type": "code",
   "execution_count": 2,
   "id": "cd7c4c84",
   "metadata": {},
   "outputs": [
    {
     "name": "stdout",
     "output_type": "stream",
     "text": [
      "Requirement already satisfied: h5py in c:\\users\\mohammed siam\\anaconda3\\lib\\site-packages (3.7.0)\n",
      "Requirement already satisfied: numpy>=1.14.5 in c:\\users\\mohammed siam\\anaconda3\\lib\\site-packages (from h5py) (1.21.5)\n",
      "Note: you may need to restart the kernel to use updated packages.\n"
     ]
    }
   ],
   "source": [
    "pip install h5py"
   ]
  },
  {
   "cell_type": "code",
   "execution_count": 4,
   "id": "fc3de72a",
   "metadata": {},
   "outputs": [],
   "source": [
    "from keras.models import load_model\n",
    "\n",
    "# Replace \"path_to_your_model.h5\" with the actual file path to your .h5 model file\n",
    "model = load_model(\"vgg16_1.h5\")"
   ]
  },
  {
   "cell_type": "code",
   "execution_count": 6,
   "id": "4882fd3e",
   "metadata": {},
   "outputs": [
    {
     "name": "stdout",
     "output_type": "stream",
     "text": [
      "Model: \"sequential\"\n",
      "_________________________________________________________________\n",
      " Layer (type)                Output Shape              Param #   \n",
      "=================================================================\n",
      " conv1d (Conv1D)             (None, 380, 64)           1408      \n",
      "                                                                 \n",
      " conv1d_1 (Conv1D)           (None, 374, 64)           28736     \n",
      "                                                                 \n",
      " max_pooling1d (MaxPooling1D  (None, 187, 64)          0         \n",
      " )                                                               \n",
      "                                                                 \n",
      " conv1d_2 (Conv1D)           (None, 183, 128)          41088     \n",
      "                                                                 \n",
      " conv1d_3 (Conv1D)           (None, 179, 128)          82048     \n",
      "                                                                 \n",
      " max_pooling1d_1 (MaxPooling  (None, 89, 128)          0         \n",
      " 1D)                                                             \n",
      "                                                                 \n",
      " flatten (Flatten)           (None, 11392)             0         \n",
      "                                                                 \n",
      " dense (Dense)               (None, 1024)              11666432  \n",
      "                                                                 \n",
      " dense_1 (Dense)             (None, 512)               524800    \n",
      "                                                                 \n",
      " dense_2 (Dense)             (None, 2)                 1026      \n",
      "                                                                 \n",
      "=================================================================\n",
      "Total params: 12,345,538\n",
      "Trainable params: 12,345,538\n",
      "Non-trainable params: 0\n",
      "_________________________________________________________________\n"
     ]
    }
   ],
   "source": [
    "model.summary()"
   ]
  },
  {
   "cell_type": "code",
   "execution_count": null,
   "id": "c39101b8",
   "metadata": {},
   "outputs": [],
   "source": []
  }
 ],
 "metadata": {
  "kernelspec": {
   "display_name": "Python 3 (ipykernel)",
   "language": "python",
   "name": "python3"
  },
  "language_info": {
   "codemirror_mode": {
    "name": "ipython",
    "version": 3
   },
   "file_extension": ".py",
   "mimetype": "text/x-python",
   "name": "python",
   "nbconvert_exporter": "python",
   "pygments_lexer": "ipython3",
   "version": "3.9.13"
  }
 },
 "nbformat": 4,
 "nbformat_minor": 5
}
